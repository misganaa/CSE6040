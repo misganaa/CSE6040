{
 "cells": [
  {
   "cell_type": "markdown",
   "metadata": {
    "deletable": false,
    "editable": false,
    "nbgrader": {
     "grade": false,
     "grade_id": "cell-21405e5abbb40a8b",
     "locked": true,
     "schema_version": 1,
     "solution": false
    }
   },
   "source": [
    "# Python review: Basic collections of values\n",
    "\n",
    "This notebook continues the review of Python basics. The focus here is on basic collections: tuples, dictionaries, and sets."
   ]
  },
  {
   "cell_type": "markdown",
   "metadata": {
    "deletable": false,
    "editable": false,
    "nbgrader": {
     "grade": false,
     "grade_id": "cell-92b642ed054324f7",
     "locked": true,
     "schema_version": 1,
     "solution": false
    }
   },
   "source": [
    "**Exercise 0** (`minmax_test`: 1 point). Complete the function `minmax(L)`, which takes a list `L` and returns a pair---that is, 2-element Python tuple, or \"2-tuple\"---whose first element is the minimum value in the list and whose second element is the maximum. For instance:\n",
    "\n",
    "```python\n",
    "  minmax([8, 7, 2, 5, 1]) == (1, 8)\n",
    "```"
   ]
  },
  {
   "cell_type": "code",
   "execution_count": 1,
   "metadata": {
    "collapsed": true,
    "jupyter": {
     "outputs_hidden": true
    },
    "nbgrader": {
     "grade": false,
     "grade_id": "minmax",
     "locked": false,
     "schema_version": 1,
     "solution": true
    }
   },
   "outputs": [],
   "source": [
    "\n",
    "def minmax(L):\n",
    "    assert hasattr(L, \"__iter__\")\n",
    "    \n",
    "    Lmax = max(L)\n",
    "    Lmin = min(L)\n",
    "    \n",
    "    t = (Lmin,Lmax)\n",
    "    \n",
    "    return t\n",
    "    \n",
    "    "
   ]
  },
  {
   "cell_type": "code",
   "execution_count": 2,
   "metadata": {
    "deletable": false,
    "editable": false,
    "nbgrader": {
     "grade": true,
     "grade_id": "minmax_test",
     "locked": true,
     "points": 1,
     "schema_version": 1,
     "solution": false
    }
   },
   "outputs": [
    {
     "name": "stdout",
     "output_type": "stream",
     "text": [
      "minmax([8, 7, 2, 5, 1]) -> (1, 8) [True: (1, 8)]\n",
      "minmax([430, 169, 350, 792, 336, 4, 391, 878, 987, 84]) -> (4, 987) [True: (4, 987)]\n",
      "\n",
      "(Passed!)\n"
     ]
    }
   ],
   "source": [
    "# `minmax_test`: Test cell\n",
    "\n",
    "L = [8, 7, 2, 5, 1]\n",
    "mmL = minmax(L)\n",
    "mmL_true = (1, 8)\n",
    "print(\"minmax({}) -> {} [True: {}]\".format(L, mmL, mmL_true))\n",
    "assert type(mmL) is tuple and mmL == (1, 8)\n",
    "\n",
    "from random import sample\n",
    "L = sample(range(1000), 10)\n",
    "mmL = minmax(L)\n",
    "L_s = sorted(L)\n",
    "mmL_true = (L_s[0], L_s[-1])\n",
    "print(\"minmax({}) -> {} [True: {}]\".format(L, mmL, mmL_true))\n",
    "assert mmL == mmL_true\n",
    "\n",
    "print(\"\\n(Passed!)\")"
   ]
  },
  {
   "cell_type": "markdown",
   "metadata": {
    "deletable": false,
    "editable": false,
    "nbgrader": {
     "grade": false,
     "grade_id": "cell-c178aa0864eac57f",
     "locked": true,
     "schema_version": 1,
     "solution": false
    }
   },
   "source": [
    "**Exercise 1** (`remove_all_test`: 2 points). Complete the function `remove_all(L, x)` so that, given a list `L` and a target value `x`, it returns a *copy* of the list that excludes *all* occurrences of `x` but preserves the order of the remaining elements. For instance:\n",
    "\n",
    "```python\n",
    "    remove_all([1, 2, 3, 2, 4, 8, 2], 2) == [1, 3, 4, 8]\n",
    "```\n",
    "\n",
    "> **Note.** Your implementation should *not* modify the list being passed into `remove_all`."
   ]
  },
  {
   "cell_type": "code",
   "execution_count": 3,
   "metadata": {
    "collapsed": true,
    "jupyter": {
     "outputs_hidden": true
    }
   },
   "outputs": [],
   "source": [
    "def remove_all(L, x):\n",
    "    assert type(L) is list and x is not None\n",
    "    \n",
    "    nl = []\n",
    "    \n",
    "    for n in L:\n",
    "        if n == x:\n",
    "            continue\n",
    "        nl.append(n)\n",
    "    \n",
    "    return nl \n",
    "            \n"
   ]
  },
  {
   "cell_type": "code",
   "execution_count": 4,
   "metadata": {
    "deletable": false,
    "editable": false,
    "nbgrader": {
     "grade": true,
     "grade_id": "remove_all_test",
     "locked": true,
     "points": 2,
     "schema_version": 1,
     "solution": false
    }
   },
   "outputs": [
    {
     "name": "stdout",
     "output_type": "stream",
     "text": [
      "Testing `remove_all([1, 2, 3, 2, 4, 8, 2], 2)`...\n",
      "\tTrue solution: [1, 3, 4, 8]\n",
      "\tYour computed solution: [1, 3, 4, 8]\n",
      "Testing `remove_all([9, 8, 9, 5, 6, 4, 0, 7, 1, 9, 8, 2, 6, 4, 3, 2, 9, 6, 0, 2], 5)`...\n",
      "\tTrue solution: [9, 8, 9, 6, 4, 0, 7, 1, 9, 8, 2, 6, 4, 3, 2, 9, 6, 0, 2]\n",
      "\tYour computed solution: [9, 8, 9, 6, 4, 0, 7, 1, 9, 8, 2, 6, 4, 3, 2, 9, 6, 0, 2]\n",
      "\n",
      "(Passed!)\n"
     ]
    }
   ],
   "source": [
    "# `remove_all_test`: Test cell\n",
    "def test_it(L, x, L_ans):\n",
    "    print(\"Testing `remove_all({}, {})`...\".format(L, x))\n",
    "    print(\"\\tTrue solution: {}\".format(L_ans))\n",
    "    L_copy = L.copy()\n",
    "    L_rem = remove_all(L_copy, x)\n",
    "    print(\"\\tYour computed solution: {}\".format(L_rem))\n",
    "    assert L_copy == L, \"Your code appears to modify the input list.\"\n",
    "    assert L_rem == L_ans, \"The returned list is incorrect.\"\n",
    "\n",
    "# Test 1: Example\n",
    "test_it([1, 2, 3, 2, 4, 8, 2], 2, [1, 3, 4, 8])\n",
    "\n",
    "# Test 2: Random list\n",
    "from random import randint\n",
    "target = randint(0, 9)\n",
    "L_input = []\n",
    "L_ans = []\n",
    "for _ in range(20):\n",
    "    v = randint(0, 9)\n",
    "    L_input.append(v)\n",
    "    if v != target:\n",
    "        L_ans.append(v)\n",
    "test_it(L_input, target, L_ans)\n",
    "\n",
    "print(\"\\n(Passed!)\")"
   ]
  },
  {
   "cell_type": "markdown",
   "metadata": {
    "deletable": false,
    "editable": false,
    "nbgrader": {
     "grade": false,
     "grade_id": "cell-bdd2cb7037605dd9",
     "locked": true,
     "schema_version": 1,
     "solution": false
    }
   },
   "source": [
    "**Exercise 2** (`compress_vector_test`: 2 points). Suppose you are given a vector, `x`, containing real values that are mostly zero. For instance:\n",
    "\n",
    "```python\n",
    "    x = [0.0, 0.87, 0.0, 0.0, 0.0, 0.32, 0.46, 0.0, 0.0, 0.10, 0.0, 0.0]\n",
    "```\n",
    "\n",
    "Complete the function, `compress_vector(x)`, so that returns a dictionary `d` with two keys, `d['inds']` and `d['vals']`, which are lists that indicate the position and value of all the *non-zero* entries of `x`. For the previous example,\n",
    "\n",
    "```python\n",
    "    d['inds'] = [1, 5, 6, 9]\n",
    "    d['vals'] = [0.87, 0.32, 0.46, 0.10]\n",
    "```\n",
    "\n",
    "> **Note 1.** Your implementation must _not_ modify the input vector `x`.\n",
    "\n",
    "> **Note 2.** If `x` contains only zero entries, `d['inds']` and `d['vals']` should be empty lists."
   ]
  },
  {
   "cell_type": "code",
   "execution_count": 5,
   "metadata": {
    "collapsed": true,
    "jupyter": {
     "outputs_hidden": true
    },
    "nbgrader": {
     "grade": false,
     "grade_id": "compress_vector",
     "locked": false,
     "schema_version": 1,
     "solution": true
    }
   },
   "outputs": [],
   "source": [
    "def compress_vector(x):\n",
    "    assert type(x) is list\n",
    "    \n",
    "    d = {'inds': [], 'vals': []}\n",
    "    \n",
    "    c = 0\n",
    "    \n",
    "    for  val in x:\n",
    "        if val == 0.0:\n",
    "            c = c+1\n",
    "            continue\n",
    "        d['inds'].append(c)\n",
    "        d['vals'].append(round(val,2))\n",
    "        c = c+1\n",
    "    \n",
    "    return d\n",
    "\n",
    "\n"
   ]
  },
  {
   "cell_type": "code",
   "execution_count": 6,
   "metadata": {
    "deletable": false,
    "editable": false,
    "nbgrader": {
     "grade": true,
     "grade_id": "compress_vector_test",
     "locked": true,
     "points": 2,
     "schema_version": 1,
     "solution": false
    }
   },
   "outputs": [
    {
     "name": "stdout",
     "output_type": "stream",
     "text": [
      "Testing `compress_vector(x=[0.0, 0.87, 0.0, 0.0, 0.0, 0.32, 0.46, 0.0, 0.0, 0.1, 0.0, 0.0])`:\n",
      "\t`x` has 8 zero entries.\n",
      "\tx (after call): [0.0, 0.87, 0.0, 0.0, 0.0, 0.32, 0.46, 0.0, 0.0, 0.1, 0.0, 0.0]\n",
      "\td: {'inds': [1, 5, 6, 9], 'vals': [0.87, 0.32, 0.46, 0.1]}\n",
      "\n",
      "Testing `compress_vector(x=[0.0, 0.0, 0.51, 0.0, 0.0, 0.83, 0.0, 0.0, 0.0, 0.41, 0.0, 0.0, 0.3, 0.0, 0.0, 0.0, 0.0, 0.0, 0.0, 0.0])`:\n",
      "\t`x` has 16 zero entries.\n",
      "\tx (after call): [0.0, 0.0, 0.51, 0.0, 0.0, 0.83, 0.0, 0.0, 0.0, 0.41, 0.0, 0.0, 0.3, 0.0, 0.0, 0.0, 0.0, 0.0, 0.0, 0.0]\n",
      "\td: {'inds': [2, 5, 9, 12], 'vals': [0.51, 0.83, 0.41, 0.3]}\n",
      "\n",
      "Testing `compress_vector(x=[0.0, 0.0, 0.0, 0.0, 0.0, 0.0, 0.0, 0.0, 0.0, 0.0, 0.0, 0.0, 0.0, 0.0, 0.0, 0.0, 1.0, 0.0, 0.0, 0.0])`:\n",
      "\t`x` has 19 zero entries.\n",
      "\tx (after call): [0.0, 0.0, 0.0, 0.0, 0.0, 0.0, 0.0, 0.0, 0.0, 0.0, 0.0, 0.0, 0.0, 0.0, 0.0, 0.0, 1.0, 0.0, 0.0, 0.0]\n",
      "\td: {'inds': [16], 'vals': [1.0]}\n",
      "\n",
      "Testing `compress_vector(x=[0.0, 0.0, 0.0, 0.78, 0.0, 0.0, 0.0, 0.3, 0.69, 0.0, 0.0, 0.57, 0.0, 0.0, 0.0, 0.88, 0.0, 0.0, 0.0, 0.0])`:\n",
      "\t`x` has 15 zero entries.\n",
      "\tx (after call): [0.0, 0.0, 0.0, 0.78, 0.0, 0.0, 0.0, 0.3, 0.69, 0.0, 0.0, 0.57, 0.0, 0.0, 0.0, 0.88, 0.0, 0.0, 0.0, 0.0]\n",
      "\td: {'inds': [3, 7, 8, 11, 15], 'vals': [0.78, 0.3, 0.69, 0.57, 0.88]}\n",
      "Testing `compress_vector(x=[0.0, 0.0, 0.0, 0.0, 0.0, 0.0, 0.0, 0.0, 0.0, 0.0])`:\n",
      "\t`x` has 10 zero entries.\n",
      "\tx (after call): [0.0, 0.0, 0.0, 0.0, 0.0, 0.0, 0.0, 0.0, 0.0, 0.0]\n",
      "\td: {'inds': [], 'vals': []}\n",
      "\n",
      "(Passed!)\n"
     ]
    }
   ],
   "source": [
    "# `compress_vector_test`: Test cell\n",
    "def check_compress_vector(x_orig):\n",
    "    print(\"Testing `compress_vector(x={})`:\".format(x_orig))\n",
    "    x = x_orig.copy()\n",
    "    nz = x.count(0.0)\n",
    "    print(\"\\t`x` has {} zero entries.\".format(nz))\n",
    "    d = compress_vector(x)\n",
    "    print(\"\\tx (after call): {}\".format(x))\n",
    "    print(\"\\td: {}\".format(d))\n",
    "    assert x == x_orig, \"Your implementation appears to modify the input.\"\n",
    "    assert type(d) is dict, \"Output type is not `dict` (a dictionary).\"\n",
    "    assert 'inds' in d and type(d['inds']) is list, \"Output key, 'inds', does not have a value of type `list`.\"\n",
    "    assert 'vals' in d and type(d['vals']) is list, \"Output key, 'vals', does not have a value of type `list`.\"\n",
    "    assert len(d['inds']) == len(d['vals']), \"`d['inds']` and `d['vals']` are lists of unequal length.\"\n",
    "    for i, v in zip(d['inds'], d['vals']):\n",
    "        assert x[i] == v, \"x[{}] == {} instead of {}\".format(i, x[i], v)\n",
    "    assert nz + len(d['vals']) == len(x), \"Output may be missing values.\"\n",
    "    assert len(d.keys()) == 2, \"Output may have keys other than 'inds' and 'vals'.\"\n",
    "    \n",
    "# Test 1: Example\n",
    "x = [0.0, 0.87, 0.0, 0.0, 0.0, 0.32, 0.46, 0.0, 0.0, 0.10, 0.0, 0.0]\n",
    "check_compress_vector(x)\n",
    "\n",
    "# Test 2: Random sparse vectors\n",
    "from random import random\n",
    "for _ in range(3):\n",
    "    print(\"\")\n",
    "    x = []\n",
    "    for _ in range(20):\n",
    "        if random() <= 0.8: # Make about 10% of entries zero\n",
    "            v = 0.0\n",
    "        else:\n",
    "            v = float(\"{:.2f}\".format(random()))\n",
    "        x.append(v)\n",
    "    check_compress_vector(x)\n",
    "    \n",
    "# Test 3: Empty vector\n",
    "x = [0.0] * 10\n",
    "check_compress_vector(x)\n",
    "\n",
    "print(\"\\n(Passed!)\")"
   ]
  },
  {
   "cell_type": "markdown",
   "metadata": {
    "deletable": false,
    "editable": false,
    "nbgrader": {
     "grade": false,
     "grade_id": "cell-ce49f2928089c229",
     "locked": true,
     "schema_version": 1,
     "solution": false
    }
   },
   "source": [
    "**Repeated indices.** Consider the compressed vector data structure, `d`, in the preceding exercise, which stores a list of indices (`d['inds']`) and a list of values (`d['vals']`).\n",
    "\n",
    "Suppose we allow duplicate indices, possibly with different values. For example:\n",
    "\n",
    "```python\n",
    "    d['inds'] == [0,   3,   7,   3,   3,   5, 1]\n",
    "    d['vals'] == [1.0, 2.0, 3.0, 4.0, 5.0, 6.0, 7.0]\n",
    "```\n",
    "\n",
    "In this case, the index 3 appears three times. (Also note that the indices `d['ind']` need not appear in sorted order.)\n",
    "\n",
    "Let's adopt the convention that when there are repeated indices, the \"true\" value there is the _sum_ of the individual values. In other words, the true vector corresponding to this example of `d` would be:\n",
    "\n",
    "```python\n",
    "    # ind:  0    1    2    3*    4    5    6    7\n",
    "    x == [1.0, 7.0, 0.0, 11.0, 0.0, 6.0, 0.0, 3.0]\n",
    "```"
   ]
  },
  {
   "cell_type": "markdown",
   "metadata": {
    "deletable": false,
    "editable": false,
    "nbgrader": {
     "grade": false,
     "grade_id": "cell-56a141d4542360fa",
     "locked": true,
     "schema_version": 1,
     "solution": false
    }
   },
   "source": [
    "**Exercise 3** (`decompress_vector_test`: 2 points). Complete the function `decompress_vector(d)` that takes a compressed vector `d`, which is a dictionary with keys for the indices (`inds`) and values (`vals`), and returns the corresponding full vector. For any repeated index, the values should be summed.\n",
    "\n",
    "The function should accept an _optional_ parameter, `n`, that specifies the length of the full vector. You may assume this length is at least `max(d['inds'])+1`."
   ]
  },
  {
   "cell_type": "code",
   "execution_count": 10,
   "metadata": {
    "nbgrader": {
     "grade": false,
     "grade_id": "decompress_vector",
     "locked": false,
     "schema_version": 1,
     "solution": true
    }
   },
   "outputs": [
    {
     "data": {
      "text/plain": [
       "[0.0, 0.0, 0.0, 0.0, 0.0, 2.75, 0.0, 0.0, 0.0, 0.0]"
      ]
     },
     "execution_count": 10,
     "metadata": {},
     "output_type": "execute_result"
    }
   ],
   "source": [
    "\n",
    "d1 = {}\n",
    "d1['inds'] = [5, 5, 5, 5]\n",
    "d1['vals'] = [0.67, 0.97, 0.77, 0.34]\n",
    "\n",
    "\n",
    "#\tx_true: [0.0, 0.0, 0.0, 0.0, 0.0, 2.75, 0.0, 0.0, 0.0, 0.0]#\n",
    "#\td: {'inds': [5, 5, 5, 5], 'vals': [0.67, 0.97, 0.77, 0.34]}\n",
    "\n",
    "def decompress_vector(d, n=None):\n",
    "    # Checks the input\n",
    "    assert type(d) is dict and 'inds' in d and 'vals' in d, \"Not a dictionary or missing keys\"\n",
    "    assert type(d['inds']) is list and type(d['vals']) is list, \"Not a list\"\n",
    "    assert len(d['inds']) == len(d['vals']), \"Length mismatch\"\n",
    "    \n",
    "    # Determine length of the full vector\n",
    "    i_max = max(d['inds']) if d['inds'] else -1\n",
    "    if n is None:\n",
    "        n = i_max+1\n",
    "    else:\n",
    "        assert n > i_max, \"Bad value for full vector length\"\n",
    "        \n",
    "    \n",
    "    if n is None:\n",
    "        lenv = i_max+1\n",
    "    else:\n",
    "        lenv = n\n",
    "        \n",
    "    rdec=[float(0)]*(lenv)\n",
    "    \n",
    "    \n",
    "    #print(len(d['inds']))\n",
    "        \n",
    "    for i in range(len(d['inds'])):\n",
    "\n",
    "        if rdec[d['inds'][i]] != 0.0:\n",
    "            \n",
    "            rdec[d['inds'][i]] += d['vals'][i]\n",
    "           \n",
    "        else:\n",
    "            rdec[d['inds'][i]] = d['vals'][i]\n",
    "    \n",
    "    \n",
    "    return rdec\n",
    "\n",
    "decompress_vector(d1,10)"
   ]
  },
  {
   "cell_type": "code",
   "execution_count": 8,
   "metadata": {
    "deletable": false,
    "editable": false,
    "nbgrader": {
     "grade": true,
     "grade_id": "decompress_vector_test",
     "locked": true,
     "points": 2,
     "schema_version": 1,
     "solution": false
    }
   },
   "outputs": [
    {
     "name": "stdout",
     "output_type": "stream",
     "text": [
      "Testing `decompress_vector(d, n)`:\n",
      "\tx_true: [1.0, 7.0, 0.0, 11.0, 0.0, 6.0, 0.0, 3.0]\n",
      "\td: {'inds': [0, 3, 7, 3, 3, 5, 1], 'vals': [1.0, 2.0, 3.0, 4.0, 5.0, 6.0, 7.0]}\n",
      "\tn: None\n",
      "7\n",
      "\t=> x[:8]: [1.0, 7.0, 0.0, 11.0, 0.0, 6.0, 0.0, 3.0]\n",
      "\n",
      "Testing `decompress_vector(d, n)`:\n",
      "\tx_true: [0.0, 0.0, 0.0, 2.06, 0.0, 0.0, 0.0, 0.0, 0.0, 2.49]\n",
      "\td: {'inds': [3, 9, 3, 9, 9, 3, 9], 'vals': [0.82, 0.33, 0.8, 0.49, 1.0, 0.44, 0.67]}\n",
      "\tn: None\n",
      "7\n",
      "\t=> x[:10]: [0.0, 0.0, 0.0, 2.06, 0.0, 0.0, 0.0, 0.0, 0.0, 2.49]\n",
      "\n",
      "Testing `decompress_vector(d, n)`:\n",
      "\tx_true: [0.0, 0.0, 0.0, 0.0, 0.88, 0.0, 1.8, 0.0, 0.0, 0.0]\n",
      "\td: {'inds': [6, 6, 4, 6, 4, 4], 'vals': [0.52, 0.32, 0.27, 0.96, 0.44, 0.17]}\n",
      "\tn: 10\n",
      "6\n",
      "\t=> x[:10]: [0.0, 0.0, 0.0, 0.0, 0.88, 0.0, 1.8, 0.0, 0.0, 0.0]\n",
      "\n",
      "Testing `decompress_vector(d, n)`:\n",
      "\tx_true: [0.0, 0.0, 0.0, 0.0, 0.0, 0.0, 1.17, 0.0, 0.0, 0.0]\n",
      "\td: {'inds': [6, 6], 'vals': [0.35, 0.82]}\n",
      "\tn: 10\n",
      "2\n",
      "\t=> x[:10]: [0.0, 0.0, 0.0, 0.0, 0.0, 0.0, 1.17, 0.0, 0.0, 0.0]\n",
      "\n",
      "Testing `decompress_vector(d, n)`:\n",
      "\tx_true: [0.0, 0.52, 0.0, 1.02, 2.05, 0.0, 0.17, 0.0, 0.0, 0.65]\n",
      "\td: {'inds': [1, 4, 6, 9, 1, 1, 3, 4, 4, 4, 3], 'vals': [0.12, 0.05, 0.17, 0.65, 0.24, 0.16, 0.69, 0.42, 0.9, 0.68, 0.33]}\n",
      "\tn: None\n",
      "11\n",
      "\t=> x[:10]: [0.0, 0.52, 0.0, 1.02, 2.0500000000000003, 0.0, 0.17, 0.0, 0.0, 0.65]\n",
      "\n",
      "Testing `decompress_vector(d, n)`:\n",
      "\tx_true: [0.0, 0.0, 0.0, 0.0, 0.0, 0.0, 0.0, 0.37, 0.0, 0.15]\n",
      "\td: {'inds': [7, 9], 'vals': [0.37, 0.15]}\n",
      "\tn: None\n",
      "2\n",
      "\t=> x[:10]: [0.0, 0.0, 0.0, 0.0, 0.0, 0.0, 0.0, 0.37, 0.0, 0.15]\n",
      "\n",
      "Testing `decompress_vector(d, n)`:\n",
      "\tx_true: [0.0, 0.0, 0.0, 0.0, 0.0]\n",
      "\td: {'inds': [], 'vals': []}\n",
      "\tn: 5\n",
      "0\n",
      "\t=> x[:5]: [0.0, 0.0, 0.0, 0.0, 0.0]\n",
      "\n",
      "(Passed!)\n"
     ]
    }
   ],
   "source": [
    "# `decompress_vector_test`: Test cell\n",
    "def check_decompress_vector(d_orig, x_true):\n",
    "    print(\"Testing `decompress_vector(d, n)`:\")\n",
    "    print(\"\\tx_true: {}\".format(x_true))\n",
    "    print(\"\\td: {}\".format(d_orig))\n",
    "    d = d_orig.copy()\n",
    "    n_true = len(x_true)\n",
    "    if d['inds'] and max(d['inds'])+1 == n_true:\n",
    "        n = None\n",
    "    else:\n",
    "        n = n_true\n",
    "    print(\"\\tn: {}\".format(n))\n",
    "    x = decompress_vector(d, n)\n",
    "    print(\"\\t=> x[:{}]: {}\".format(len(x), x))\n",
    "    assert type(x) is list and len(x) == n_true, \"Output vector has the wrong length.\"\n",
    "    assert all([abs(x_i - x_true_i) < n_true*1e-15 for x_i, x_true_i in zip(x, x_true)])\n",
    "    assert d == d_orig\n",
    "    \n",
    "# Test 1: Example\n",
    "d = {}\n",
    "d['inds'] = [0,   3,   7,   3,   3,   5, 1]\n",
    "d['vals'] = [1.0, 2.0, 3.0, 4.0, 5.0, 6.0, 7.0]\n",
    "x_true = [1.0, 7.0, 0.0, 11.0, 0.0, 6.0, 0.0, 3.0]\n",
    "check_decompress_vector(d, x_true)\n",
    "\n",
    "# Test 2: Random vectors\n",
    "def gen_cvec_reps(p_nz, n_max):\n",
    "    from random import random, randrange, sample\n",
    "    x_true = [0.0] * n_max\n",
    "    d = {'inds': [], 'vals': []}\n",
    "    for i in range(n_max):\n",
    "        if random() <= p_nz: # Create non-zero\n",
    "            n_rep = randrange(1, 5)\n",
    "            d['inds'].extend([i] * n_rep)\n",
    "            v_i = [float(\"{:.2f}\".format(random())) for _ in range(n_rep)]\n",
    "            d['vals'].extend(v_i)\n",
    "            x_true[i] = sum(v_i)\n",
    "    perm = sample(range(len(d['inds'])), k=len(d['inds']))\n",
    "    d['inds'] = [d['inds'][k] for k in perm]\n",
    "    d['vals'] = [d['vals'][k] for k in perm]\n",
    "    return (d, x_true)\n",
    "\n",
    "p_nz = 0.2 # probability of a non-zero\n",
    "n_max = 10 # maximum full-vector length\n",
    "for _ in range(5): # 5 trials\n",
    "    print(\"\")\n",
    "    (d, x_true) = gen_cvec_reps(p_nz, n_max)\n",
    "    check_decompress_vector(d, x_true)\n",
    "    \n",
    "# Test 3: Empty vector of length 5\n",
    "print(\"\")\n",
    "check_decompress_vector({'inds': [], 'vals': []}, [0.0] * 5)\n",
    "\n",
    "print(\"\\n(Passed!)\")"
   ]
  },
  {
   "cell_type": "markdown",
   "metadata": {
    "deletable": false,
    "editable": false,
    "nbgrader": {
     "grade": false,
     "grade_id": "cell-0c0b0adae71fd1a3",
     "locked": true,
     "schema_version": 1,
     "solution": false
    }
   },
   "source": [
    "**Exercise 4** (`find_common_inds_test`: 1 point). Suppose you are given two compressed vectors, `d1` and `d2`, each represented as described above and possibly with repeated indices. Complete the function `find_common_inds(d1, d2)` so that it returns a list of the indices they have in common.\n",
    "\n",
    "For instance, suppose:\n",
    "\n",
    "```python\n",
    "    d1 == {'inds': [9, 9, 1, 9, 8, 1], 'vals': [0.28, 0.84, 0.71, 0.03, 0.04, 0.75]}\n",
    "    d2 == {'inds': [0, 9, 9, 1, 3, 3, 9], 'vals': [0.26, 0.06, 0.46, 0.58, 0.42, 0.21, 0.53, 0.76]}\n",
    "```\n",
    "\n",
    "Then:\n",
    "\n",
    "```python\n",
    "    find_common_inds(d1, d2) == [1, 9]\n",
    "```\n",
    "\n",
    "> **Note 1.** The returned list must not have duplicate indices, even if the inputs do. In the example, the index 9 is repeated in both `d1` and `d2`, but the output includes just one 9.\n",
    "\n",
    "> **Note 2.** In the returned list, the order of indices does not matter. For instance, the example shows `[1, 9]` but `[9, 1]` would also be valid."
   ]
  },
  {
   "cell_type": "code",
   "execution_count": 22,
   "metadata": {
    "nbgrader": {
     "grade": false,
     "grade_id": "find_common_inds",
     "locked": false,
     "schema_version": 1,
     "solution": true
    }
   },
   "outputs": [
    {
     "data": {
      "text/plain": [
       "[9, 1]"
      ]
     },
     "execution_count": 22,
     "metadata": {},
     "output_type": "execute_result"
    }
   ],
   "source": [
    "def find_common_inds(d1, d2):\n",
    "    assert type(d1) is dict and 'inds' in d1 and 'vals' in d1\n",
    "    assert type(d2) is dict and 'inds' in d2 and 'vals' in d2\n",
    "    \n",
    "\n",
    "    \n",
    "    intersect = []\n",
    "    for key in d1['inds']:\n",
    "        \n",
    "        if key in d2['inds']:\n",
    "        \n",
    "            if key not in intersect:\n",
    "                intersect.append(key)\n",
    "    \n",
    "    \n",
    "    return intersect\n",
    "    \n",
    "    \n",
    "\n",
    "\n"
   ]
  },
  {
   "cell_type": "code",
   "execution_count": 24,
   "metadata": {
    "deletable": false,
    "editable": false,
    "nbgrader": {
     "grade": true,
     "grade_id": "find_common_inds_test",
     "locked": true,
     "points": 1,
     "schema_version": 1,
     "solution": false
    }
   },
   "outputs": [
    {
     "name": "stdout",
     "output_type": "stream",
     "text": [
      "Testing `check_find_common_inds(d1, d2, ans)`:\n",
      "\td1: {'inds': [9, 9, 1, 9, 8, 1], 'vals': [0.28, 0.84, 0.71, 0.03, 0.04, 0.75]}\n",
      "\td2: {'inds': [0, 9, 9, 1, 3, 3, 9], 'vals': [0.26, 0.06, 0.46, 0.58, 0.42, 0.21, 0.53]}\n",
      "\texpected ans: [1, 9]\n",
      "\tcomputed common: [9, 1]\n",
      "\n",
      "Testing `check_find_common_inds(d1, d2, ans)`:\n",
      "\td1: {'inds': [19, 19, 17, 9, 1, 3, 18, 13, 18, 1, 3, 15, 19, 18, 2, 17, 1, 17, 16, 3], 'vals': [0.0, 0.7, 0.6, 0.6, 0.3, 0.6, 0.3, 0.3, 0.2, 0.9, 0.1, 0.6, 0.8, 0.3, 0.6, 0.8, 0.7, 0.1, 0.7, 0.5]}\n",
      "\td2: {'inds': [14, 10, 11, 0, 4, 7, 12, 8, 5, 7, 14, 5, 0, 6, 8, 14, 7, 0, 11, 11, 8, 4, 5], 'vals': [0.9, 1.0, 0.7, 0.6, 0.3, 0.9, 0.7, 0.3, 0.9, 0.6, 0.3, 0.8, 0.3, 0.8, 0.7, 0.9, 0.8, 0.2, 0.8, 1.0, 0.5, 0.2, 0.6]}\n",
      "\texpected ans: []\n",
      "\tcomputed common: []\n",
      "\n",
      "Testing `check_find_common_inds(d1, d2, ans)`:\n",
      "\td1: {'inds': [18, 9, 17, 14, 12, 4, 10, 8, 10, 12, 14, 14, 8, 6, 17, 7, 4, 18, 10, 6, 12, 17, 8], 'vals': [0.4, 0.1, 0.2, 0.3, 0.4, 0.5, 0.8, 0.7, 0.0, 0.2, 0.2, 0.0, 0.8, 0.4, 0.2, 0.8, 0.1, 0.3, 0.1, 0.4, 1.0, 0.9, 0.4]}\n",
      "\td2: {'inds': [11, 0, 15, 13, 3, 15, 7, 3, 7, 0, 2, 11, 3, 19, 1, 9, 15, 9, 9], 'vals': [0.6, 0.5, 1.0, 0.7, 0.3, 0.6, 0.3, 0.5, 1.0, 0.5, 0.3, 0.7, 0.2, 0.5, 0.5, 0.4, 0.3, 0.6, 0.4]}\n",
      "\texpected ans: [9, 7]\n",
      "\tcomputed common: [9, 7]\n",
      "\n",
      "Testing `check_find_common_inds(d1, d2, ans)`:\n",
      "\td1: {'inds': [9, 12, 19, 5, 11, 11, 12, 2, 8, 8, 3, 8, 4, 3, 4, 13, 11], 'vals': [0.2, 0.7, 0.1, 0.2, 0.9, 0.4, 0.1, 0.9, 0.7, 0.1, 0.6, 0.6, 0.5, 1.0, 0.5, 0.1, 0.6]}\n",
      "\td2: {'inds': [15, 19, 6, 7, 17, 15, 6, 2, 16, 17, 15, 11, 9, 11, 6, 2, 18, 11, 7, 9], 'vals': [0.2, 0.4, 0.7, 0.5, 0.1, 0.0, 0.9, 0.7, 0.5, 0.7, 0.0, 0.3, 0.9, 0.3, 0.9, 0.7, 0.3, 0.8, 0.8, 0.8]}\n",
      "\texpected ans: [19, 2, 9, 11]\n",
      "\tcomputed common: [9, 19, 11, 2]\n",
      "\n",
      "Testing `check_find_common_inds(d1, d2, ans)`:\n",
      "\td1: {'inds': [14, 9, 13, 13, 14, 9, 4, 7, 17, 16, 16, 5, 19, 6, 6, 17, 7, 7, 14], 'vals': [0.1, 0.3, 0.0, 0.6, 0.3, 0.1, 1.0, 0.1, 0.3, 0.7, 0.3, 0.5, 0.9, 0.8, 0.7, 0.2, 0.9, 0.9, 0.5]}\n",
      "\td2: {'inds': [10, 3, 12, 3, 19, 18, 16, 1, 8, 15, 8, 12, 18, 0, 18, 1, 19, 15, 10, 3, 19, 16, 15, 12, 0, 10], 'vals': [0.7, 0.5, 0.4, 0.7, 0.9, 0.9, 0.3, 0.3, 0.1, 0.5, 1.0, 0.1, 0.3, 0.3, 0.3, 0.8, 0.1, 0.5, 0.3, 0.4, 0.9, 0.6, 0.2, 0.4, 0.2, 0.2]}\n",
      "\texpected ans: [19, 16]\n",
      "\tcomputed common: [16, 19]\n",
      "\n",
      "Testing `check_find_common_inds(d1, d2, ans)`:\n",
      "\td1: {'inds': [0, 0, 12, 15, 4, 4, 1, 11, 5, 14, 14, 5, 18, 1, 5, 4, 11, 12, 13], 'vals': [0.6, 0.8, 0.3, 0.5, 0.1, 0.3, 0.2, 0.2, 0.6, 0.3, 0.4, 0.6, 0.6, 0.5, 0.8, 0.5, 0.4, 0.8, 0.5]}\n",
      "\td2: {'inds': [3, 3, 7, 9, 12, 6, 7, 8, 2, 10, 3, 16, 6, 6, 7, 10, 2, 19], 'vals': [0.4, 0.7, 0.5, 0.6, 0.6, 0.9, 0.9, 0.8, 0.4, 0.9, 0.6, 0.5, 0.6, 0.7, 0.6, 0.4, 0.4, 0.5]}\n",
      "\texpected ans: [12]\n",
      "\tcomputed common: [12]\n",
      "\n",
      "(Passed!))\n"
     ]
    }
   ],
   "source": [
    "# `find_common_inds_test`: Test cell\n",
    "def check_find_common_inds(d1, d2, ans):\n",
    "    print(\"Testing `check_find_common_inds(d1, d2, ans)`:\")\n",
    "    print(\"\\td1: {}\".format(d1))\n",
    "    print(\"\\td2: {}\".format(d2))\n",
    "    print(\"\\texpected ans: {}\".format(ans))\n",
    "    common = find_common_inds(d1, d2)\n",
    "    print(\"\\tcomputed common: {}\".format(common))\n",
    "    assert type(common) is list\n",
    "    assert sorted(common) == sorted(ans), \"Answers do not match.\"\n",
    "    \n",
    "# Test 1: Example\n",
    "d1 = {'inds': [9, 9, 1, 9, 8, 1], 'vals': [0.28, 0.84, 0.71, 0.03, 0.04, 0.75]}\n",
    "d2 = {'inds': [0, 9, 9, 1, 3, 3, 9], 'vals': [0.26, 0.06, 0.46, 0.58, 0.42, 0.21, 0.53]}\n",
    "ans = [1, 9]\n",
    "check_find_common_inds(d1, d2, ans)\n",
    "\n",
    "# Test 2: Random tests\n",
    "from random import random, randrange, sample, shuffle\n",
    "p_common = 0.2\n",
    "for _ in range(5):\n",
    "    print(\"\")\n",
    "    n_min = 10\n",
    "    x = sample(range(2*n_min), 2*n_min)\n",
    "    i1, i2 = x[:n_min], x[n_min:]\n",
    "    inds1, inds2 = [], []\n",
    "    ans = []\n",
    "    for k, i in enumerate(i1):\n",
    "        if random() <= p_common:\n",
    "            i2[k] = i\n",
    "            ans.append(i)\n",
    "        inds1.extend([i] * randrange(1, 4))\n",
    "        inds2.extend([i2[k]] * randrange(1, 4))\n",
    "    shuffle(inds1)\n",
    "    d1 = {'inds': inds1, 'vals': [float(\"{:.1f}\".format(random())) for _ in range(len(inds1))]}\n",
    "    shuffle(inds2)\n",
    "    d2 = {'inds': inds2, 'vals': [float(\"{:.1f}\".format(random())) for _ in range(len(inds2))]}\n",
    "    check_find_common_inds(d1, d2, ans)\n",
    "\n",
    "print(\"\\n(Passed!))\")"
   ]
  },
  {
   "cell_type": "markdown",
   "metadata": {},
   "source": [
    "**Fin!** You've reached the end of this part. Don't forget to restart and run all cells again to make sure it's all working when run in sequence; and make sure your work passes the submission process. Good luck!"
   ]
  }
 ],
 "metadata": {
  "celltoolbar": "Create Assignment",
  "kernelspec": {
   "display_name": "Python 3 (ipykernel)",
   "language": "python",
   "name": "python3"
  },
  "language_info": {
   "codemirror_mode": {
    "name": "ipython",
    "version": 3
   },
   "file_extension": ".py",
   "mimetype": "text/x-python",
   "name": "python",
   "nbconvert_exporter": "python",
   "pygments_lexer": "ipython3",
   "version": "3.9.7"
  },
  "toc": {
   "base_numbering": 1,
   "nav_menu": [],
   "number_sections": true,
   "sideBar": true,
   "skip_h1_title": false,
   "title_cell": "Table of Contents",
   "title_sidebar": "Contents",
   "toc_cell": false,
   "toc_position": [],
   "toc_section_display": true,
   "toc_window_display": false
  }
 },
 "nbformat": 4,
 "nbformat_minor": 4
}
