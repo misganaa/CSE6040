{
 "cells": [
  {
   "cell_type": "markdown",
   "metadata": {
    "deletable": false,
    "editable": false,
    "nbgrader": {
     "grade": false,
     "grade_id": "cell-81740ad10bcffdd8",
     "locked": true,
     "schema_version": 1,
     "solution": false
    }
   },
   "source": [
    "# Part 1 of 2: Processing an HTML file\n",
    "\n",
    "One of the richest sources of information is [the Web](http://www.computerhistory.org/revolution/networking/19/314)! In this notebook, we ask you to use string processing and regular expressions to mine a web page, which is stored in HTML format.\n",
    "\n",
    "> **Note 0.** The exercises below involve processing of HTML files. However, you don't need to know anything specific about HTML; you can solve (and we have solved) all of these exercises assuming only that the data is a semi-structured string, amenable to simple string manipulation and regular expression processing techniques. In Notebook 6 (optional), you'll see a different method that employs the [Beautiful Soup module](https://www.crummy.com/software/BeautifulSoup/bs4/doc/).\n",
    ">\n",
    "> **Note 1.** Following Note 0, there are some outspoken people who believe you should never use regular expressions on HTML. Your instructor finds these arguments to be overly pedantic. For an entertaining take on the subject, see [this blog post](https://blog.codinghorror.com/parsing-html-the-cthulhu-way/).\n",
    ">\n",
    "> **Note 2.** The data below is a snapshot from an older version of the Yelp! site. Therefore, you should complete the exercises using the data we've provided, rather than downloading a copy directly from Yelp!."
   ]
  },
  {
   "cell_type": "markdown",
   "metadata": {
    "deletable": false,
    "editable": false,
    "nbgrader": {
     "grade": false,
     "grade_id": "cell-e1821fbeefa0e2c2",
     "locked": true,
     "schema_version": 1,
     "solution": false
    }
   },
   "source": [
    "**The data: Yelp! reviews.** The data you will work with is a snapshot of a recent search on the [Yelp! site](https://yelp.com) for the best fried chicken restaurants in Atlanta. That snapshot is hosted here: https://cse6040.gatech.edu/datasets/yelp-example\n",
    "\n",
    "If you go ahead and open that site, you'll see that it contains a ranked list of places:\n",
    "\n",
    "![Top 10 Fried Chicken Spots in ATL as of September 12, 2017](https://cse6040.gatech.edu/datasets/yelp-example/ranked-list-snapshot.png)"
   ]
  },
  {
   "cell_type": "markdown",
   "metadata": {
    "deletable": false,
    "editable": false,
    "nbgrader": {
     "grade": false,
     "grade_id": "cell-fe765896f1d25066",
     "locked": true,
     "schema_version": 1,
     "solution": false
    }
   },
   "source": [
    "**Your task.** In this part of this assignment, we'd like you to write some code to extract this list."
   ]
  },
  {
   "cell_type": "markdown",
   "metadata": {
    "deletable": false,
    "editable": false,
    "nbgrader": {
     "grade": false,
     "grade_id": "cell-95c9a0ef4d1838e1",
     "locked": true,
     "schema_version": 1,
     "solution": false
    }
   },
   "source": [
    "## Getting the data\n",
    "\n",
    "First things first: you need an HTML file. The following Python code opens a copy of the sample Yelp! page from above."
   ]
  },
  {
   "cell_type": "code",
   "execution_count": 1,
   "metadata": {
    "nbgrader": {
     "grade": false,
     "grade_id": "cell-af1ae6df64a1fd40",
     "locked": false,
     "schema_version": 1,
     "solution": false
    }
   },
   "outputs": [
    {
     "ename": "FileNotFoundError",
     "evalue": "[Errno 2] No such file or directory: 'yelp.htm'",
     "output_type": "error",
     "traceback": [
      "\u001b[0;31m---------------------------------------------------------------------------\u001b[0m",
      "\u001b[0;31mFileNotFoundError\u001b[0m                         Traceback (most recent call last)",
      "\u001b[0;32m/var/folders/cj/sjr4qnd53hl4gb214g82tp0m0000gn/T/ipykernel_69663/3223687639.py\u001b[0m in \u001b[0;36m<module>\u001b[0;34m\u001b[0m\n\u001b[1;32m      1\u001b[0m \u001b[0;32mimport\u001b[0m \u001b[0mhashlib\u001b[0m\u001b[0;34m\u001b[0m\u001b[0;34m\u001b[0m\u001b[0m\n\u001b[1;32m      2\u001b[0m \u001b[0;34m\u001b[0m\u001b[0m\n\u001b[0;32m----> 3\u001b[0;31m \u001b[0;32mwith\u001b[0m \u001b[0mopen\u001b[0m\u001b[0;34m(\u001b[0m\u001b[0;34m'yelp.htm'\u001b[0m\u001b[0;34m,\u001b[0m \u001b[0;34m'r'\u001b[0m\u001b[0;34m,\u001b[0m \u001b[0mencoding\u001b[0m\u001b[0;34m=\u001b[0m\u001b[0;34m'utf-8'\u001b[0m\u001b[0;34m)\u001b[0m \u001b[0;32mas\u001b[0m \u001b[0mf\u001b[0m\u001b[0;34m:\u001b[0m\u001b[0;34m\u001b[0m\u001b[0;34m\u001b[0m\u001b[0m\n\u001b[0m\u001b[1;32m      4\u001b[0m     \u001b[0myelp_html\u001b[0m \u001b[0;34m=\u001b[0m \u001b[0mf\u001b[0m\u001b[0;34m.\u001b[0m\u001b[0mread\u001b[0m\u001b[0;34m(\u001b[0m\u001b[0;34m)\u001b[0m\u001b[0;34m.\u001b[0m\u001b[0mencode\u001b[0m\u001b[0;34m(\u001b[0m\u001b[0mencoding\u001b[0m\u001b[0;34m=\u001b[0m\u001b[0;34m'utf-8'\u001b[0m\u001b[0;34m)\u001b[0m\u001b[0;34m\u001b[0m\u001b[0;34m\u001b[0m\u001b[0m\n\u001b[1;32m      5\u001b[0m     \u001b[0mchecksum\u001b[0m \u001b[0;34m=\u001b[0m \u001b[0mhashlib\u001b[0m\u001b[0;34m.\u001b[0m\u001b[0mmd5\u001b[0m\u001b[0;34m(\u001b[0m\u001b[0myelp_html\u001b[0m\u001b[0;34m)\u001b[0m\u001b[0;34m.\u001b[0m\u001b[0mhexdigest\u001b[0m\u001b[0;34m(\u001b[0m\u001b[0;34m)\u001b[0m\u001b[0;34m\u001b[0m\u001b[0;34m\u001b[0m\u001b[0m\n",
      "\u001b[0;31mFileNotFoundError\u001b[0m: [Errno 2] No such file or directory: 'yelp.htm'"
     ]
    }
   ],
   "source": [
    "import hashlib\n",
    "\n",
    "with open('yelp.htm', 'r', encoding='utf-8') as f:\n",
    "    yelp_html = f.read().encode(encoding='utf-8')\n",
    "    checksum = hashlib.md5(yelp_html).hexdigest()\n",
    "    assert checksum == \"4a74a0ee9cefee773e76a22a52d45a8e\", \"Downloaded file has incorrect checksum!\"\n",
    "    \n",
    "print(\"'yelp.htm' is ready!\")"
   ]
  },
  {
   "cell_type": "markdown",
   "metadata": {
    "deletable": false,
    "editable": false,
    "nbgrader": {
     "grade": false,
     "grade_id": "cell-afee39f0b7aee426",
     "locked": true,
     "schema_version": 1,
     "solution": false
    }
   },
   "source": [
    "**Viewing the raw HTML in your web browser.** The file you just downloaded is the raw HTML version of the data described previously. Before moving on, you should go back to that site and use your web browser to view the HTML source for the web page. Do that now to get an idea of what is in that file.\n",
    "\n",
    "> If you don't know how to view the page source in your browser, try the instructions on [this site](http://www.wikihow.com/View-Source-Code)."
   ]
  },
  {
   "cell_type": "markdown",
   "metadata": {
    "deletable": false,
    "editable": false,
    "nbgrader": {
     "grade": false,
     "grade_id": "cell-993d633285178cf8",
     "locked": true,
     "schema_version": 1,
     "solution": false
    }
   },
   "source": [
    "**Reading the HTML file into a Python string.** Let's also open the file in Python and read its contents into a string named, `yelp_html`."
   ]
  },
  {
   "cell_type": "code",
   "execution_count": null,
   "metadata": {},
   "outputs": [],
   "source": [
    "with open('yelp.htm', 'r', encoding='utf-8') as yelp_file:\n",
    "    yelp_html = yelp_file.read()\n",
    "    \n",
    "# Print first few hundred characters of this string:\n",
    "print(\"*** type(yelp_html) == {} ***\".format(type(yelp_html)))\n",
    "n = 1000\n",
    "print(\"*** Contents (first {} characters) ***\\n{} ...\".format(n, yelp_html[:n]))"
   ]
  },
  {
   "cell_type": "markdown",
   "metadata": {
    "deletable": false,
    "editable": false,
    "nbgrader": {
     "grade": false,
     "grade_id": "cell-02895e5c5a7d18be",
     "locked": true,
     "schema_version": 1,
     "solution": false
    }
   },
   "source": [
    "Oy, what a mess! It will be great to have some code read and process the information contained within this file."
   ]
  },
  {
   "cell_type": "markdown",
   "metadata": {
    "deletable": false,
    "editable": false,
    "nbgrader": {
     "grade": false,
     "grade_id": "cell-6481539b4054dbde",
     "locked": true,
     "schema_version": 1,
     "solution": false
    }
   },
   "source": [
    "## Exercise (5 points): Extracting the ranking\n",
    "\n",
    "Write some Python code to create a variable named `rankings`, which is a list of dictionaries set up as follows:\n",
    "\n",
    "* `rankings[i]` is a dictionary corresponding to the restaurant whose rank is `i+1`. For example, from the screenshot above, `rankings[0]` should be a dictionary with information about Gus's World Famous Fried Chicken.\n",
    "* Each dictionary, `rankings[i]`, should have these keys:\n",
    "    * `rankings[i]['name']`: The name of the restaurant, a string.\n",
    "    * `rankings[i]['stars']`: The star rating, as a string, e.g., `'4.5'`, `'4.0'`\n",
    "    * `rankings[i]['numrevs']`: The number of reviews, as an **integer.**\n",
    "    * `rankings[i]['price']`: The price range, as dollar signs, e.g., `'$'`, `'$$'`, `'$$$'`, or `'$$$$'`.\n",
    "    \n",
    "Of course, since the current topic is regular expressions, you might try to apply them (possibly combined with other string manipulation methods) find the particular patterns that yield the desired information."
   ]
  },
  {
   "cell_type": "code",
   "execution_count": null,
   "metadata": {
    "nbgrader": {
     "grade": false,
     "grade_id": "rankings",
     "locked": false,
     "schema_version": 1,
     "solution": true
    },
    "scrolled": true
   },
   "outputs": [],
   "source": [
    "###\n",
    "### YOUR CODE HERE\n",
    "###\n"
   ]
  },
  {
   "cell_type": "code",
   "execution_count": null,
   "metadata": {
    "deletable": false,
    "editable": false,
    "nbgrader": {
     "grade": true,
     "grade_id": "rankings_test",
     "locked": true,
     "points": 5,
     "schema_version": 1,
     "solution": false
    }
   },
   "outputs": [],
   "source": [
    "# Test cell: `rankings_test`\n",
    "\n",
    "assert type(rankings) is list, \"`rankings` must be a list\"\n",
    "assert all([type(r) is dict for r in rankings]), \"All `rankings[i]` must be dictionaries\"\n",
    "\n",
    "print(\"=== Rankings ===\")\n",
    "for i, r in enumerate(rankings):\n",
    "    print(\"{}. {} ({}): {} stars based on {} reviews\".format(i+1,\n",
    "                                                             r['name'],\n",
    "                                                             r['price'],\n",
    "                                                             r['stars'],\n",
    "                                                             r['numrevs']))\n",
    "\n",
    "assert rankings[0] == {'numrevs': 549, 'name': 'Gus’s World Famous Fried Chicken', 'stars': '4.0', 'price': '$$'} \\\n",
    "       or rankings[0] == {'numrevs': 549, 'name': 'Gus&#39;s World Famous Fried Chicken', 'stars': '4.0', 'price': '$$'}\n",
    "assert rankings[1] == {'numrevs': 1777, 'name': 'South City Kitchen - Midtown', 'stars': '4.5', 'price': '$$'}\n",
    "assert rankings[2] == {'numrevs': 2241, 'name': 'Mary Mac’s Tea Room', 'stars': '4.0', 'price': '$$'} \\\n",
    "       or rankings[2] == {'numrevs': 2241, 'name': 'Mary Mac&#39;s Tea Room', 'stars': '4.0', 'price': '$$'}\n",
    "assert rankings[3] == {'numrevs': 481, 'name': 'Busy Bee Cafe', 'stars': '4.0', 'price': '$$'}\n",
    "assert rankings[4] == {'numrevs': 108, 'name': 'Richards’ Southern Fried', 'stars': '4.0', 'price': '$$'} \\\n",
    "       or rankings[4] == {'numrevs': 108, 'name': 'Richards&#39; Southern Fried', 'stars': '4.0', 'price': '$$'}\n",
    "assert rankings[5] == {'numrevs': 93, 'name': 'Greens &amp; Gravy', 'stars': '3.5', 'price': '$$'} \\\n",
    "       or rankings[5] == {'numrevs': 93, 'name': 'Greens & Gravy', 'stars': '3.5', 'price': '$$'}\n",
    "assert rankings[6] == {'numrevs': 350, 'name': 'Colonnade Restaurant', 'stars': '4.0', 'price': '$$'}\n",
    "assert rankings[7] == {'numrevs': 248, 'name': 'South City Kitchen Buckhead', 'stars': '4.5', 'price': '$$'}\n",
    "assert rankings[8] == {'numrevs': 1558, 'name': 'Poor Calvin’s', 'stars': '4.5', 'price': '$$'} \\\n",
    "       or rankings[8] == {'numrevs': 1558, 'name': 'Poor Calvin&#39;s', 'stars': '4.5', 'price': '$$'}\n",
    "assert rankings[9] == {'numrevs': 67, 'name': 'Rock’s Chicken &amp; Fries', 'stars': '4.0', 'price': '$'} \\\n",
    "       or rankings[9] == {'numrevs': 67, 'name': 'Rock&#39;s Chicken &amp; Fries', 'stars': '4.0', 'price': '$'} \\\n",
    "       or rankings[9] == {'numrevs': 67, 'name': 'Rock&#39;s Chicken & Fries', 'stars': '4.0', 'price': '$'} \\\n",
    "       or rankings[9] == {'numrevs': 67, 'name': 'Rock’s Chicken & Fries', 'stars': '4.0', 'price': '$'}\n",
    "\n",
    "print(\"\\n(Passed!)\")"
   ]
  },
  {
   "cell_type": "markdown",
   "metadata": {
    "deletable": false,
    "editable": false,
    "nbgrader": {
     "grade": false,
     "grade_id": "cell-b3bde66e454dc063",
     "locked": true,
     "schema_version": 1,
     "solution": false
    }
   },
   "source": [
    "**Fin!** This cell marks the end of Part 1. Don't forget to save, restart and rerun all cells, and submit it. When you are done, proceed to Part 2."
   ]
  }
 ],
 "metadata": {
  "celltoolbar": "Create Assignment",
  "kernelspec": {
   "display_name": "Python 3 (ipykernel)",
   "language": "python",
   "name": "python3"
  },
  "language_info": {
   "codemirror_mode": {
    "name": "ipython",
    "version": 3
   },
   "file_extension": ".py",
   "mimetype": "text/x-python",
   "name": "python",
   "nbconvert_exporter": "python",
   "pygments_lexer": "ipython3",
   "version": "3.9.7"
  }
 },
 "nbformat": 4,
 "nbformat_minor": 4
}
