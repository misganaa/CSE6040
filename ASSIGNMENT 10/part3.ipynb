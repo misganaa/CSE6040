{
 "cells": [
  {
   "cell_type": "markdown",
   "metadata": {
    "deletable": false,
    "editable": false,
    "nbgrader": {
     "grade": false,
     "grade_id": "cell-ef65176dd9b50242",
     "locked": true,
     "schema_version": 1,
     "solution": false
    }
   },
   "source": [
    "# Part 3: Sparse matrix storage\n",
    "\n",
    "This part is about sparse matrix storage in Numpy/Scipy.\n",
    "\n",
    "> **Note:** When you submit this notebook to the autograder, there will be a time-limit of about 180 seconds (3 minutes). If your notebook takes more time than that to run, it's likely you are not writing efficient enough code.\n",
    "\n",
    "Start by running the following code cell to get some of the key modules you'll need."
   ]
  },
  {
   "cell_type": "code",
   "execution_count": 1,
   "metadata": {
    "deletable": false,
    "editable": false,
    "nbgrader": {
     "grade": false,
     "grade_id": "cell-6aa273f0bf5796d0",
     "locked": true,
     "schema_version": 1,
     "solution": false
    }
   },
   "outputs": [
    {
     "name": "stdout",
     "output_type": "stream",
     "text": [
      "3.8.7 (default, Jan 25 2021, 11:14:52) \n",
      "[GCC 5.5.0 20171010]\n",
      "1.22.1\n",
      "1.4.0\n"
     ]
    }
   ],
   "source": [
    "import sys\n",
    "print(sys.version)\n",
    "\n",
    "from random import sample # Used to generate a random sample\n",
    "\n",
    "import numpy as np\n",
    "print(np.__version__)\n",
    "\n",
    "from numpy.random import default_rng\n",
    "rng = default_rng(12345)\n",
    "\n",
    "import pandas as pd\n",
    "print(pd.__version__)\n",
    "\n",
    "from IPython.display import display\n",
    "\n",
    "# Custom benchmarking code\n",
    "%load_ext autoreload\n",
    "%autoreload 2\n",
    "\n",
    "from cse6040bench import benchit"
   ]
  },
  {
   "cell_type": "markdown",
   "metadata": {
    "deletable": false,
    "editable": false,
    "nbgrader": {
     "grade": false,
     "grade_id": "cell-6de0c71f2c3d02ac",
     "locked": true,
     "schema_version": 1,
     "solution": false
    }
   },
   "source": [
    "## Sample data\n",
    "\n",
    "For this part, you'll need to download the dataset below. It's a list of pairs of strings. The strings, it turns out, correspond to anonymized Yelp! user IDs; a pair $(a, b)$ exists if user $a$ is friends on Yelp! with user $b$."
   ]
  },
  {
   "cell_type": "markdown",
   "metadata": {
    "deletable": false,
    "editable": false,
    "nbgrader": {
     "grade": false,
     "grade_id": "cell-b2ac969cddb6c98c",
     "locked": true,
     "schema_version": 1,
     "solution": false
    }
   },
   "source": [
    "**Exercise 0** (ungraded). Verify that you can obtain the dataset and take a peek by running the two code cells that follow."
   ]
  },
  {
   "cell_type": "code",
   "execution_count": 2,
   "metadata": {
    "deletable": false,
    "editable": false,
    "nbgrader": {
     "grade": true,
     "grade_id": "download",
     "locked": true,
     "points": "0",
     "schema_version": 1,
     "solution": false
    }
   },
   "outputs": [
    {
     "name": "stdout",
     "output_type": "stream",
     "text": [
      "==> Checksum test passes: 4668034bbcd2fa120915ea2d15eafa8d\n",
      "==> './resource/asnlib/publicdata/UserEdges-1M.csv' is ready!\n",
      "\n",
      "(Auxiliary files appear to be ready.)\n"
     ]
    }
   ],
   "source": [
    "import requests\n",
    "import os\n",
    "import hashlib\n",
    "import io\n",
    "\n",
    "local_filename = './resource/asnlib/publicdata/UserEdges-1M.csv'\n",
    "checksum = '4668034bbcd2fa120915ea2d15eafa8d'\n",
    "with io.open(local_filename, 'r', encoding='utf-8', errors='replace') as f:\n",
    "    body = f.read()\n",
    "    body_checksum = hashlib.md5(body.encode('utf-8')).hexdigest()\n",
    "    assert body_checksum == checksum, \\\n",
    "        \"Data file '{}' has incorrect checksum: '{}' instead of '{}'\".format(local_filename,\n",
    "                                                                             body_checksum,\n",
    "                                                                             checksum)\n",
    "    print(\"==> Checksum test passes: {}\".format(checksum))\n",
    "    \n",
    "print(\"==> '{}' is ready!\\n\".format(local_filename))\n",
    "print(\"(Auxiliary files appear to be ready.)\")"
   ]
  },
  {
   "cell_type": "code",
   "execution_count": 3,
   "metadata": {
    "deletable": false,
    "editable": false,
    "nbgrader": {
     "grade": true,
     "grade_id": "peek",
     "locked": true,
     "points": 0,
     "schema_version": 1,
     "solution": false
    },
    "scrolled": true
   },
   "outputs": [
    {
     "data": {
      "text/html": [
       "<div>\n",
       "<style scoped>\n",
       "    .dataframe tbody tr th:only-of-type {\n",
       "        vertical-align: middle;\n",
       "    }\n",
       "\n",
       "    .dataframe tbody tr th {\n",
       "        vertical-align: top;\n",
       "    }\n",
       "\n",
       "    .dataframe thead th {\n",
       "        text-align: right;\n",
       "    }\n",
       "</style>\n",
       "<table border=\"1\" class=\"dataframe\">\n",
       "  <thead>\n",
       "    <tr style=\"text-align: right;\">\n",
       "      <th></th>\n",
       "      <th>Source</th>\n",
       "      <th>Target</th>\n",
       "    </tr>\n",
       "  </thead>\n",
       "  <tbody>\n",
       "    <tr>\n",
       "      <th>0</th>\n",
       "      <td>18kPq7GPye-YQ3LyKyAZPw</td>\n",
       "      <td>rpOyqD_893cqmDAtJLbdog</td>\n",
       "    </tr>\n",
       "    <tr>\n",
       "      <th>1</th>\n",
       "      <td>18kPq7GPye-YQ3LyKyAZPw</td>\n",
       "      <td>4U9kSBLuBDU391x6bxU-YA</td>\n",
       "    </tr>\n",
       "    <tr>\n",
       "      <th>2</th>\n",
       "      <td>18kPq7GPye-YQ3LyKyAZPw</td>\n",
       "      <td>fHtTaujcyKvXglE33Z5yIw</td>\n",
       "    </tr>\n",
       "    <tr>\n",
       "      <th>3</th>\n",
       "      <td>18kPq7GPye-YQ3LyKyAZPw</td>\n",
       "      <td>8J4IIYcqBlFch8T90N923A</td>\n",
       "    </tr>\n",
       "    <tr>\n",
       "      <th>4</th>\n",
       "      <td>18kPq7GPye-YQ3LyKyAZPw</td>\n",
       "      <td>wy6l_zUo7SN0qrvNRWgySw</td>\n",
       "    </tr>\n",
       "  </tbody>\n",
       "</table>\n",
       "</div>"
      ],
      "text/plain": [
       "                   Source                  Target\n",
       "0  18kPq7GPye-YQ3LyKyAZPw  rpOyqD_893cqmDAtJLbdog\n",
       "1  18kPq7GPye-YQ3LyKyAZPw  4U9kSBLuBDU391x6bxU-YA\n",
       "2  18kPq7GPye-YQ3LyKyAZPw  fHtTaujcyKvXglE33Z5yIw\n",
       "3  18kPq7GPye-YQ3LyKyAZPw  8J4IIYcqBlFch8T90N923A\n",
       "4  18kPq7GPye-YQ3LyKyAZPw  wy6l_zUo7SN0qrvNRWgySw"
      ]
     },
     "metadata": {},
     "output_type": "display_data"
    },
    {
     "name": "stdout",
     "output_type": "stream",
     "text": [
      "...\n",
      "`edges_raw` has 1000000 entries.\n"
     ]
    }
   ],
   "source": [
    "# Peek at the data:\n",
    "edges_raw = pd.read_csv(local_filename)\n",
    "display(edges_raw.head ())\n",
    "print(\"...\\n`edges_raw` has {} entries.\".format(len(edges_raw)))"
   ]
  },
  {
   "cell_type": "markdown",
   "metadata": {
    "deletable": false,
    "editable": false,
    "nbgrader": {
     "grade": false,
     "locked": true,
     "solution": false
    }
   },
   "source": [
    "Evidently, this dataframe has one million entries."
   ]
  },
  {
   "cell_type": "markdown",
   "metadata": {
    "deletable": false,
    "editable": false,
    "nbgrader": {
     "grade": false,
     "grade_id": "cell-9be12247572b9e2c",
     "locked": true,
     "schema_version": 1,
     "solution": false
    }
   },
   "source": [
    "**Exercise 1** (ungraded). Explain what the following code cell does."
   ]
  },
  {
   "cell_type": "code",
   "execution_count": 4,
   "metadata": {},
   "outputs": [
    {
     "name": "stdout",
     "output_type": "stream",
     "text": [
      "==> |V| == 107456, |E| == 882640\n"
     ]
    }
   ],
   "source": [
    "edges_raw_trans = pd.DataFrame({'Source': edges_raw['Target'],\n",
    "                                'Target': edges_raw['Source']})\n",
    "edges_raw_symm = pd.concat([edges_raw, edges_raw_trans])\n",
    "edges = edges_raw_symm.drop_duplicates()\n",
    "\n",
    "V_names = set(edges['Source'])\n",
    "V_names.update(set(edges['Target']))\n",
    "\n",
    "num_edges = len(edges)\n",
    "num_verts = len(V_names)\n",
    "print(\"==> |V| == {}, |E| == {}\".format(num_verts, num_edges))"
   ]
  },
  {
   "cell_type": "markdown",
   "metadata": {
    "deletable": false,
    "editable": false,
    "nbgrader": {
     "grade": false,
     "grade_id": "cell-fbdbd32e87cb254e",
     "locked": true,
     "schema_version": 1,
     "solution": false
    }
   },
   "source": [
    "**Answer.** Give this question some thought before peeking at our suggested answer, which follows.\n",
    "\n",
    "Recall that the input dataframe, `edges_raw`, has a row $(a, b)$ if $a$ and $b$ are friends. But here is what is unclear at the outset: if $(a, b)$ is an entry in this table, is $(b, a)$ also an entry? The code in the above cell effectively figures that out, by computing a dataframe, `edges`, that contains both $(a, b)$ and $(b, a)$, with no additional duplicates, i.e., no copies of $(a, b)$.\n",
    "\n",
    "It also uses sets to construct a set, `V_names`, that consists of all the names. Evidently, the dataset consists of 107,456 unique names and 441,320 unique pairs, or 882,640 pairs when you \"symmetrize\" to ensure that both $(a, b)$ and $(b, a)$ appear."
   ]
  },
  {
   "cell_type": "markdown",
   "metadata": {
    "deletable": false,
    "editable": false,
    "nbgrader": {
     "grade": false,
     "grade_id": "cell-be3161d594957194",
     "locked": true,
     "schema_version": 1,
     "solution": false
    }
   },
   "source": [
    "## Graphs\n",
    "\n",
    "One way a computer scientist thinks of this collection of pairs is as a _graph_: \n",
    "https://en.wikipedia.org/wiki/Graph_(discrete_mathematics)\n",
    "\n",
    "The names or user IDs are _nodes_ or _vertices_ of this graph; the pairs are _edges_, or arrows that connect vertices. That's why the final output objects are named `V_names` (for vertex names) and `edges` (for the vertex-to-vertex relationships). The process or calculation to ensure that both $(a, b)$ and $(b, a)$ are contained in `edges` is sometimes referred to as _symmetrizing_ the graph: it ensures that if an edge $a \\rightarrow b$ exists, then so does $b \\rightarrow a$. If that's true for all edges, then the graph is _undirected_. The Wikipedia page linked to above explains these terms with some examples and helpful pictures, so take a moment to review that material before moving on.\n",
    "\n",
    "We'll also refer to this collection of vertices and edges as the _connectivity graph_."
   ]
  },
  {
   "cell_type": "markdown",
   "metadata": {
    "deletable": false,
    "editable": false,
    "nbgrader": {
     "grade": false,
     "grade_id": "cell-d071e1c08339a51a",
     "locked": true,
     "schema_version": 1,
     "solution": false
    }
   },
   "source": [
    "## Sparse matrix storage: Baseline methods\n",
    "\n",
    "Let's start by reminding ourselves how our previous method for storing sparse matrices, based on nested default dictionaries, works and performs."
   ]
  },
  {
   "cell_type": "code",
   "execution_count": 5,
   "metadata": {
    "collapsed": true,
    "deletable": false,
    "editable": false,
    "nbgrader": {
     "grade": false,
     "grade_id": "cell-3d39f8d2b811b0cd",
     "locked": true,
     "schema_version": 1,
     "solution": false
    }
   },
   "outputs": [],
   "source": [
    "def sparse_matrix(base_type=float):\n",
    "    \"\"\"Returns a sparse matrix using nested default dictionaries.\"\"\"\n",
    "    from collections import defaultdict\n",
    "    return defaultdict(lambda: defaultdict (base_type))\n",
    "\n",
    "def dense_vector(init, base_type=float):\n",
    "    \"\"\"\n",
    "    Returns a dense vector, either of a given length\n",
    "    and initialized to 0 values or using a given list\n",
    "    of initial values.\n",
    "    \"\"\"\n",
    "    # Case 1: `init` is a list of initial values for the vector entries\n",
    "    if type(init) is list:\n",
    "        initial_values = init\n",
    "        return [base_type(x) for x in initial_values]\n",
    "    \n",
    "    # Else, case 2: `init` is a vector length.\n",
    "    assert type(init) is int\n",
    "    return [base_type(0)] * init"
   ]
  },
  {
   "cell_type": "markdown",
   "metadata": {
    "deletable": false,
    "editable": false,
    "nbgrader": {
     "grade": false,
     "grade_id": "cell-d8b0991e3ceff246",
     "locked": true,
     "schema_version": 1,
     "solution": false
    }
   },
   "source": [
    "**Exercise 2** (3 points). Implement a function to compute $y \\leftarrow A x$. Assume that the keys of the sparse matrix data structure are integers in the interval $[0, s)$ where $s$ is the number of rows or columns as appropriate.\n",
    "\n",
    "> **Hint**: Recall that you implemented a _dense_ matrix-vector multiply in Part 2. Think about how to adapt that same piece of code when the data structure for storing `A` has changed to the sparse representation given in this exercise."
   ]
  },
  {
   "cell_type": "code",
   "execution_count": 6,
   "metadata": {
    "collapsed": true,
    "deletable": false,
    "nbgrader": {
     "checksum": "955f962052f5c6c7312b202a1718c6b2",
     "grade": false,
     "grade_id": "spmv_baseline",
     "locked": false,
     "schema_version": 1,
     "solution": true
    }
   },
   "outputs": [],
   "source": [
    "def spmv(A, x, num_rows=None): \n",
    "    if num_rows is None:\n",
    "        num_rows = max(A.keys()) + 1\n",
    "    y = dense_vector(num_rows) \n",
    "    \n",
    "    # Recall: y = A*x is, conceptually,\n",
    "    # for all i, y[i] == sum over all j of (A[i, j] * x[j])\n",
    "    \n",
    "    for i, row_i in A.items():\n",
    "        s = 0 \n",
    "        for j, a_ij in row_i.items():\n",
    "            s += a_ij * x[j]\n",
    "        y[i] = s\n",
    "    \n",
    "    return y"
   ]
  },
  {
   "cell_type": "code",
   "execution_count": 7,
   "metadata": {
    "deletable": false,
    "editable": false,
    "nbgrader": {
     "checksum": "515643bf850dd079b899416eb1ff2308",
     "grade": true,
     "grade_id": "spmv_baseline_test",
     "locked": true,
     "points": 3,
     "schema_version": 1,
     "solution": false
    }
   },
   "outputs": [
    {
     "name": "stdout",
     "output_type": "stream",
     "text": [
      "==> A: defaultdict(<function sparse_matrix.<locals>.<lambda> at 0x7efe4c8328b0>, {0: defaultdict(<class 'float'>, {1: -2.5, 2: 1.2}), 1: defaultdict(<class 'float'>, {0: 0.1, 1: 1.0}), 2: defaultdict(<class 'float'>, {0: 6.0, 1: -1.0})})\n",
      "==> x: [1.0, 2.0, 3.0]\n",
      "==> True solution, y0: [-1.4, 2.1, 4.0]\n",
      "==> Your solution, y: [-1.4000000000000004, 2.1, 4.0]\n",
      "==> Residual (infinity norm): 4.440892098500626e-16\n",
      "\n",
      "(Passed.)\n"
     ]
    }
   ],
   "source": [
    "# Test cell: `spmv_baseline_test`\n",
    "\n",
    "#   / 0.   -2.5   1.2 \\   / 1. \\   / -1.4 \\\n",
    "#   | 0.1   1.    0.  | * | 2. | = |  2.1 |\n",
    "#   \\ 6.   -1.    0.  /   \\ 3. /   \\  4.0 /\n",
    "\n",
    "A = sparse_matrix ()\n",
    "A[0][1] = -2.5\n",
    "A[0][2] = 1.2\n",
    "A[1][0] = 0.1\n",
    "A[1][1] = 1.\n",
    "A[2][0] = 6.\n",
    "A[2][1] = -1.\n",
    "\n",
    "x = dense_vector ([1, 2, 3])\n",
    "y0 = dense_vector ([-1.4, 2.1, 4.0])\n",
    "\n",
    "\n",
    "# Try your code:\n",
    "y = spmv(A, x)\n",
    "\n",
    "max_abs_residual = max([abs(a-b) for a, b in zip(y, y0)])\n",
    "\n",
    "print (\"==> A:\", A)\n",
    "print (\"==> x:\", x)\n",
    "print (\"==> True solution, y0:\", y0)\n",
    "print (\"==> Your solution, y:\", y)\n",
    "print (\"==> Residual (infinity norm):\", max_abs_residual)\n",
    "assert max_abs_residual <= 1e-14\n",
    "\n",
    "print (\"\\n(Passed.)\")"
   ]
  },
  {
   "cell_type": "markdown",
   "metadata": {
    "deletable": false,
    "editable": false,
    "nbgrader": {
     "grade": false,
     "locked": true,
     "solution": false
    }
   },
   "source": [
    "Next, let's convert the `edges` input into a sparse matrix representing its connectivity graph. To do so, we'll first want to map names to integers."
   ]
  },
  {
   "cell_type": "code",
   "execution_count": 8,
   "metadata": {
    "deletable": false,
    "editable": false,
    "nbgrader": {
     "grade": false,
     "locked": true,
     "solution": false
    }
   },
   "outputs": [
    {
     "name": "stdout",
     "output_type": "stream",
     "text": [
      "Name 4jOJhiBiFCeWnAsfkKmaLg -> Vertex id 0\n",
      "Name za3cyqAdnYuvi6W-n1CNlw -> Vertex id 1\n",
      "Name Gro0xjoDx2mF1ydpqcsC-w -> Vertex id 2\n",
      "Name StOyoZIMDukZ8keft7j0EA -> Vertex id 3\n",
      "Name bPBomeE8Crd-1uIR8Rw8Jg -> Vertex id 4\n",
      "Name asoOzbwJYsyzOgqCNf4sAQ -> Vertex id 5\n",
      "...\n"
     ]
    }
   ],
   "source": [
    "id2name = {} # id2name[id] == name\n",
    "name2id = {} # name2id[name] == id\n",
    "\n",
    "for k, v in enumerate (V_names):\n",
    "    # for debugging\n",
    "    if k <= 5: print (\"Name %s -> Vertex id %d\" % (v, k))\n",
    "    if k == 6: print (\"...\")\n",
    "        \n",
    "    id2name[k] = v\n",
    "    name2id[v] = k"
   ]
  },
  {
   "cell_type": "markdown",
   "metadata": {
    "deletable": false,
    "editable": false,
    "nbgrader": {
     "grade": false,
     "grade_id": "cell-e6c177e3e661b3f4",
     "locked": true,
     "schema_version": 1,
     "solution": false
    }
   },
   "source": [
    "**Exercise 3** (3 points). Given `id2name` and `name2id` as computed above, convert `edges` into a sparse matrix, `G`, where there is an entry `G[s][t] == 1.0` wherever an edge `(s, t)` exists.\n",
    "\n",
    "**Note** - This step might take time for the kernel to process as there are 1 million rows"
   ]
  },
  {
   "cell_type": "code",
   "execution_count": 9,
   "metadata": {
    "collapsed": true,
    "deletable": false,
    "nbgrader": {
     "checksum": "e7b93bdd30160b78cbdaadd4536220be",
     "grade": false,
     "grade_id": "edges2spmat1",
     "locked": false,
     "schema_version": 1,
     "solution": true
    }
   },
   "outputs": [],
   "source": [
    "G = sparse_matrix()\n",
    "\n",
    "for i in range (len(edges)):\n",
    "    s = edges['Source'].iloc[i]\n",
    "    t = edges['Target'].iloc[i]\n",
    "    s_id = name2id[s]\n",
    "    t_id = name2id[t]\n",
    "    G[s_id][t_id] = 1.0\n"
   ]
  },
  {
   "cell_type": "code",
   "execution_count": 10,
   "metadata": {
    "deletable": false,
    "editable": false,
    "nbgrader": {
     "checksum": "43664e40d066f164c4c7656131a3cce4",
     "grade": true,
     "grade_id": "edges2spmat1_test",
     "locked": true,
     "points": 3,
     "schema_version": 1,
     "solution": false
    }
   },
   "outputs": [
    {
     "name": "stdout",
     "output_type": "stream",
     "text": [
      "G has 107456 vertices and 882640 edges.\n",
      "\n",
      "(Passed.)\n"
     ]
    }
   ],
   "source": [
    "# Test cell: `edges2spmat1_test`\n",
    "\n",
    "G_rows_nnz = [len(row_i) for row_i in G.values()]\n",
    "print (\"G has {} vertices and {} edges.\".format(len(G.keys()), sum(G_rows_nnz)))\n",
    "\n",
    "assert len(G.keys()) == num_verts\n",
    "assert sum(G_rows_nnz) == num_edges\n",
    "\n",
    "# Check a random sample\n",
    "for k in sample(range(num_edges), 1000):\n",
    "    i = name2id[edges['Source'].iloc[k]]\n",
    "    j = name2id[edges['Target'].iloc[k]]\n",
    "    assert i in G\n",
    "    assert j in G[i]\n",
    "    assert G[i][j] == 1.0\n",
    "\n",
    "print (\"\\n(Passed.)\")"
   ]
  },
  {
   "cell_type": "markdown",
   "metadata": {
    "deletable": false,
    "editable": false,
    "nbgrader": {
     "grade": false,
     "grade_id": "cell-2cea4ccc61e8292b",
     "locked": true,
     "schema_version": 1,
     "solution": false
    }
   },
   "source": [
    "**Exercise 4** (3 points). In the above, we asked you to construct `G` using integer keys. However, since we are, after all, using default dictionaries, we could also use the vertex _names_ as keys. Construct a new sparse matrix, `H`, which uses the vertex names as keys instead of integers."
   ]
  },
  {
   "cell_type": "code",
   "execution_count": 11,
   "metadata": {
    "collapsed": true,
    "deletable": false,
    "nbgrader": {
     "checksum": "49c43b1118692f51dc39daf77e4a0ed1",
     "grade": false,
     "grade_id": "create_H",
     "locked": false,
     "schema_version": 1,
     "solution": true
    }
   },
   "outputs": [],
   "source": [
    "H = sparse_matrix()\n",
    "\n",
    "for i in range(len(edges)):\n",
    "    s = edges['Source'].iloc[i]\n",
    "    t = edges['Target'].iloc[i]\n",
    "    H[s][t] = 1.0\n"
   ]
  },
  {
   "cell_type": "code",
   "execution_count": 12,
   "metadata": {
    "deletable": false,
    "editable": false,
    "nbgrader": {
     "checksum": "74f09f66321a81b92f9a069056c3839a",
     "grade": true,
     "grade_id": "create_H_test",
     "locked": true,
     "points": 3,
     "schema_version": 1,
     "solution": false
    }
   },
   "outputs": [
    {
     "name": "stdout",
     "output_type": "stream",
     "text": [
      "`H` has 107456 vertices and 882640 edges.\n",
      "\n",
      "(Passed.)\n"
     ]
    }
   ],
   "source": [
    "# Test cell: `create_H_test`\n",
    "\n",
    "H_rows_nnz = [len(h) for h in H.values()]\n",
    "print(\"`H` has {} vertices and {} edges.\".format(len(H.keys()), sum(H_rows_nnz)))\n",
    "\n",
    "assert len(H.keys()) == num_verts\n",
    "assert sum(H_rows_nnz) == num_edges\n",
    "\n",
    "# Check a random sample\n",
    "for i in sample(G.keys(), 100):\n",
    "    i_name = id2name[i]\n",
    "    assert i_name in H\n",
    "    assert len(G[i]) == len(H[i_name])\n",
    "    \n",
    "print (\"\\n(Passed.)\")"
   ]
  },
  {
   "cell_type": "markdown",
   "metadata": {
    "deletable": false,
    "editable": false,
    "nbgrader": {
     "grade": false,
     "grade_id": "cell-70283ef6ee2ba97b",
     "locked": true,
     "schema_version": 1,
     "solution": false
    }
   },
   "source": [
    "**Exercise 5** (3 points). Implement a sparse matrix-vector multiply for matrices with named keys. In this case, it will be convenient to have vectors that also have named keys; assume we use dictionaries to hold these vectors as suggested in the code skeleton, below.\n",
    "\n",
    "> **Hint:** Go back to **Exercise 2** and see what you did there. If it was implemented well, a modest change to the solution for Exercise 2 is likely to be all you need here."
   ]
  },
  {
   "cell_type": "code",
   "execution_count": 13,
   "metadata": {
    "collapsed": true,
    "deletable": false,
    "nbgrader": {
     "checksum": "e2b8ff94eabca106055961f330e2e1e9",
     "grade": false,
     "grade_id": "spmv_keyed",
     "locked": false,
     "schema_version": 1,
     "solution": true
    }
   },
   "outputs": [],
   "source": [
    "def vector_keyed(keys=None, values=0, base_type=float):\n",
    "    if keys is not None:\n",
    "        if type(values) is not list:\n",
    "            values = [base_type(values)] * len(keys)\n",
    "        else:\n",
    "            values = [base_type(v) for v in values]\n",
    "        x = dict(zip(keys, values))\n",
    "    else:\n",
    "        x = {}\n",
    "    return x\n",
    "\n",
    "def spmv_keyed(A, x):\n",
    "    \"\"\"Performs a sparse matrix-vector multiply for keyed matrices and vectors.\"\"\"\n",
    "    assert type(x) is dict\n",
    "    \n",
    "    y = vector_keyed(keys=A.keys(), values=0.0)\n",
    "    \n",
    "    for i, row_i in A.items():\n",
    "        s=0\n",
    "        for j, a_ij in row_i.items():\n",
    "            s += a_ij * x[j]\n",
    "        y[i] = s\n",
    "\n",
    "    \n",
    "    return y"
   ]
  },
  {
   "cell_type": "code",
   "execution_count": 14,
   "metadata": {
    "deletable": false,
    "editable": false,
    "nbgrader": {
     "checksum": "b9e1a425ae61c024c90aec900c302200",
     "grade": true,
     "grade_id": "spmv_keyed_test",
     "locked": true,
     "points": 3,
     "schema_version": 1,
     "solution": false
    },
    "scrolled": true
   },
   "outputs": [
    {
     "name": "stdout",
     "output_type": "stream",
     "text": [
      "==> A_keyed: defaultdict(<function sparse_matrix.<locals>.<lambda> at 0x7efe3c01c940>, {'row': defaultdict(<class 'float'>, {'your': -2.5, 'boat': 1.2}), 'your': defaultdict(<class 'float'>, {'row': 0.1, 'your': 1.0}), 'boat': defaultdict(<class 'float'>, {'row': 6.0, 'your': -1.0})})\n",
      "==> x_keyed: {'row': 1.0, 'your': 2.0, 'boat': 3.0}\n",
      "==> True solution, y0_keyed: {'row': -1.4, 'your': 2.1, 'boat': 4.0}\n",
      "==> Your solution: {'row': -1.4000000000000004, 'your': 2.1, 'boat': 4.0}\n",
      "==> Residual (infinity norm): 4.440892098500626e-16\n",
      "\n",
      "(Passed.)\n"
     ]
    }
   ],
   "source": [
    "# Test cell: `spmv_keyed_test`\n",
    "\n",
    "#   'row':  / 0.   -2.5   1.2 \\   / 1. \\   / -1.4 \\\n",
    "#  'your':  | 0.1   1.    0.  | * | 2. | = |  2.1 |\n",
    "#  'boat':  \\ 6.   -1.    0.  /   \\ 3. /   \\  4.0 /\n",
    "\n",
    "KEYS = ['row', 'your', 'boat']\n",
    "\n",
    "A_keyed = sparse_matrix ()\n",
    "A_keyed['row']['your'] = -2.5\n",
    "A_keyed['row']['boat'] = 1.2\n",
    "A_keyed['your']['row'] = 0.1\n",
    "A_keyed['your']['your'] = 1.\n",
    "A_keyed['boat']['row'] = 6.\n",
    "A_keyed['boat']['your'] = -1.\n",
    "\n",
    "x_keyed = vector_keyed (KEYS, [1, 2, 3])\n",
    "y0_keyed = vector_keyed (KEYS, [-1.4, 2.1, 4.0])\n",
    "\n",
    "\n",
    "# Try your code:\n",
    "y_keyed = spmv_keyed (A_keyed, x_keyed)\n",
    "\n",
    "# Measure the residual:\n",
    "residuals = [(y_keyed[k] - y0_keyed[k]) for k in KEYS]\n",
    "max_abs_residual = max ([abs (r) for r in residuals])\n",
    "\n",
    "print (\"==> A_keyed:\", A_keyed)\n",
    "print (\"==> x_keyed:\", x_keyed)\n",
    "print (\"==> True solution, y0_keyed:\", y0_keyed)\n",
    "print (\"==> Your solution:\", y_keyed)\n",
    "print (\"==> Residual (infinity norm):\", max_abs_residual)\n",
    "assert max_abs_residual <= 1e-14\n",
    "\n",
    "print (\"\\n(Passed.)\")"
   ]
  },
  {
   "cell_type": "markdown",
   "metadata": {
    "deletable": false,
    "editable": false,
    "nbgrader": {
     "grade": false,
     "grade_id": "cell-082a92f6bf532765",
     "locked": true,
     "schema_version": 1,
     "solution": false
    }
   },
   "source": [
    "Let's benchmark `spmv()` against `spmv_keyed()` on the full data set. Do they perform differently?\n",
    "\n",
    "> If this benchmark or any of the subsequent ones take an excessively long time to run, including autograder failure, then it's likely you have not implemented `spmv_keyed` efficiently. You'll need to look closely and ensure your implementation is not doing something that leads to excessive running time or memory consumption, which might happen if you don't really understand how dictionaries work."
   ]
  },
  {
   "cell_type": "code",
   "execution_count": 15,
   "metadata": {
    "deletable": false,
    "editable": false,
    "nbgrader": {
     "grade": true,
     "grade_id": "bench_spmv",
     "locked": true,
     "points": "0",
     "solution": false
    }
   },
   "outputs": [
    {
     "name": "stdout",
     "output_type": "stream",
     "text": [
      "Timing result: (5 trials) x (1 runs) in 1.2544469100030256 secs\n",
      "==> 0.2508893820006051 secs per run\n",
      "Timing result: (5 trials) x (1 runs) in 2.1242007559994818 secs\n",
      "==> 0.4248401511998964 secs per run\n"
     ]
    }
   ],
   "source": [
    "x = dense_vector ([1.] * num_verts)\n",
    "benchit('spmv(G, x)', scope=globals());\n",
    "\n",
    "x_keyed = vector_keyed (keys=[v for v in V_names], values=1.)\n",
    "benchit('spmv_keyed(H, x_keyed)', scope=globals());"
   ]
  },
  {
   "cell_type": "markdown",
   "metadata": {
    "deletable": false,
    "editable": false,
    "nbgrader": {
     "grade": false,
     "grade_id": "cell-5d768ea95d0ca6c1",
     "locked": true,
     "schema_version": 1,
     "solution": false
    }
   },
   "source": [
    "## Alternative formats: \n",
    "\n",
    "Take a look at the following slides: [link](https://www.dropbox.com/s/4fwq21dy60g4w4u/cse6040-matrix-storage-notes.pdf?dl=0). These slides cover the basics of two list-based sparse matrix formats known as _coordinate format_ (COO) and _compressed sparse row_ (CSR). We will also discuss them briefly below."
   ]
  },
  {
   "cell_type": "markdown",
   "metadata": {
    "deletable": false,
    "editable": false,
    "nbgrader": {
     "grade": false,
     "grade_id": "cell-4bf324e720a3e630",
     "locked": true,
     "schema_version": 1,
     "solution": false
    }
   },
   "source": [
    "### Coordinate Format (COO)\n",
    "In this format we store three lists, one each for rows, columns and the elements of the matrix. Look at the below picture to understand how these lists are formed."
   ]
  },
  {
   "cell_type": "markdown",
   "metadata": {
    "deletable": false,
    "editable": false,
    "nbgrader": {
     "grade": false,
     "grade_id": "cell-6bdb33cc2c955d82",
     "locked": true,
     "schema_version": 1,
     "solution": false
    }
   },
   "source": [
    "![Coordinate (COO) storage](https://github.com/cse6040/labs-fa17/raw/master/lab10-numpy/coo.png)"
   ]
  },
  {
   "cell_type": "markdown",
   "metadata": {
    "deletable": false,
    "editable": false,
    "nbgrader": {
     "grade": false,
     "locked": true,
     "solution": false
    }
   },
   "source": [
    "**Exercise 6** (3 points). Convert the `edges[:]` data into a coordinate (COO) data structure in native Python using three lists, `coo_rows[:]`, `coo_cols[:]`, and `coo_vals[:]`, to store the row indices, column indices, and matrix values, respectively. Use integer indices and set all values to 1.\n",
    "\n",
    "**Hint** - Think of what rows, columns and values mean conceptually when you relate it with our dataset of edges"
   ]
  },
  {
   "cell_type": "code",
   "execution_count": 16,
   "metadata": {
    "collapsed": true,
    "deletable": false,
    "nbgrader": {
     "checksum": "743f3f0274ab64002cbfc488f983ab48",
     "grade": false,
     "grade_id": "create_coo",
     "locked": false,
     "schema_version": 1,
     "solution": true
    }
   },
   "outputs": [],
   "source": [
    "\n",
    "coo_rows = [name2id[s] for s in edges ['Source']]\n",
    "coo_cols = [name2id[t] for t in edges ['Target']]\n",
    "coo_vals = [1]*len(edges)\n"
   ]
  },
  {
   "cell_type": "code",
   "execution_count": 17,
   "metadata": {
    "deletable": false,
    "editable": false,
    "nbgrader": {
     "checksum": "3c761a47d930eb8aea76ed98ea41e5ef",
     "grade": true,
     "grade_id": "create_coo_test",
     "locked": true,
     "points": 3,
     "schema_version": 1,
     "solution": false
    }
   },
   "outputs": [
    {
     "name": "stdout",
     "output_type": "stream",
     "text": [
      "\n",
      "(Passed.)\n"
     ]
    }
   ],
   "source": [
    "# Test cell: `create_coo_test`\n",
    "\n",
    "assert len (coo_rows) == num_edges\n",
    "assert len (coo_cols) == num_edges\n",
    "assert len (coo_vals) == num_edges\n",
    "assert all ([v == 1. for v in coo_vals])\n",
    "\n",
    "# Randomly check a bunch of values\n",
    "coo_zip = zip (coo_rows, coo_cols, coo_vals)\n",
    "for i, j, a_ij in sample (list (coo_zip), 1000):\n",
    "    assert (i in G) and j in G[i]\n",
    "    \n",
    "print (\"\\n(Passed.)\")"
   ]
  },
  {
   "cell_type": "markdown",
   "metadata": {
    "deletable": false,
    "editable": false,
    "nbgrader": {
     "grade": false,
     "locked": true,
     "solution": false
    }
   },
   "source": [
    "**Exercise 7** (3 points). Implement a sparse matrix-vector multiply routine for COO implementation."
   ]
  },
  {
   "cell_type": "code",
   "execution_count": 18,
   "metadata": {
    "collapsed": true,
    "deletable": false,
    "nbgrader": {
     "checksum": "8e4c1e238b164289ec574900551ba0b4",
     "grade": false,
     "grade_id": "spmv_coo",
     "locked": false,
     "schema_version": 1,
     "solution": true
    }
   },
   "outputs": [],
   "source": [
    "def spmv_coo(R, C, V, x, num_rows=None):\n",
    "    \"\"\"\n",
    "    Returns y = A*x, where A has 'm' rows and is stored in\n",
    "    COO format by the array triples, (R, C, V).\n",
    "    \"\"\"\n",
    "    assert type(x) is list\n",
    "    assert type(R) is list\n",
    "    assert type(C) is list\n",
    "    assert type(V) is list\n",
    "    assert len(R) == len(C) == len(V)\n",
    "    if num_rows is None:\n",
    "        num_rows = max(R) + 1\n",
    "    \n",
    "    y = dense_vector(num_rows)\n",
    "    \n",
    "    for i, j, aij in zip(R,C,V):\n",
    "        y[i] += aij*x[j]\n",
    "    \n",
    "    return y"
   ]
  },
  {
   "cell_type": "code",
   "execution_count": 19,
   "metadata": {
    "deletable": false,
    "editable": false,
    "nbgrader": {
     "grade": true,
     "grade_id": "spmv_coo_test",
     "locked": true,
     "points": 3,
     "schema_version": 1,
     "solution": false
    }
   },
   "outputs": [
    {
     "name": "stdout",
     "output_type": "stream",
     "text": [
      "==> A_coo: [(0, 1, -2.5), (0, 2, 1.2), (1, 0, 0.1), (1, 1, 1.0), (2, 0, 6.0), (2, 1, -1.0)]\n",
      "==> x: [1.0, 2.0, 3.0]\n",
      "==> True solution, y0: [-1.4, 2.1, 4.0]\n",
      "==> Your solution: [-1.4000000000000004, 2.1, 4.0]\n",
      "==> Residual (infinity norm): 4.440892098500626e-16\n",
      "\n",
      "(Passed.)\n"
     ]
    }
   ],
   "source": [
    "# Test cell: `spmv_coo_test`\n",
    "\n",
    "#   / 0.   -2.5   1.2 \\   / 1. \\   / -1.4 \\\n",
    "#   | 0.1   1.    0.  | * | 2. | = |  2.1 |\n",
    "#   \\ 6.   -1.    0.  /   \\ 3. /   \\  4.0 /\n",
    "\n",
    "A_coo_rows = [0, 0, 1, 1, 2, 2]\n",
    "A_coo_cols = [1, 2, 0, 1, 0, 1]\n",
    "A_coo_vals = [-2.5, 1.2, 0.1, 1., 6., -1.]\n",
    "\n",
    "x = dense_vector([1, 2, 3])\n",
    "y0 = dense_vector([-1.4, 2.1, 4.0])\n",
    "\n",
    "# Try your code:\n",
    "y_coo = spmv_coo(A_coo_rows, A_coo_cols, A_coo_vals, x)\n",
    "\n",
    "max_abs_residual = max ([abs(a-b) for a, b in zip(y_coo, y0)])\n",
    "\n",
    "print(\"==> A_coo:\", list(zip(A_coo_rows, A_coo_cols, A_coo_vals)))\n",
    "print(\"==> x:\", x)\n",
    "print(\"==> True solution, y0:\", y0)\n",
    "print(\"==> Your solution:\", y_coo)\n",
    "print(\"==> Residual (infinity norm):\", max_abs_residual)\n",
    "assert max_abs_residual <= 1e-15\n",
    "\n",
    "print(\"\\n(Passed.)\")"
   ]
  },
  {
   "cell_type": "markdown",
   "metadata": {
    "deletable": false,
    "editable": false,
    "nbgrader": {
     "grade": false,
     "locked": true,
     "solution": false
    }
   },
   "source": [
    "Let's see how fast this is..."
   ]
  },
  {
   "cell_type": "code",
   "execution_count": 20,
   "metadata": {
    "deletable": false,
    "editable": false,
    "nbgrader": {
     "grade": true,
     "grade_id": "bench_coo",
     "locked": true,
     "points": "0",
     "solution": false
    }
   },
   "outputs": [
    {
     "name": "stdout",
     "output_type": "stream",
     "text": [
      "Timing result: (5 trials) x (1 runs) in 1.675011244997222 secs\n",
      "==> 0.3350022489994444 secs per run\n"
     ]
    }
   ],
   "source": [
    "x = dense_vector([1.] * num_verts)\n",
    "benchit('spmv_coo(coo_rows, coo_cols, coo_vals, x)', scope=globals());"
   ]
  },
  {
   "cell_type": "markdown",
   "metadata": {
    "deletable": false,
    "editable": false,
    "nbgrader": {
     "grade": false,
     "locked": true,
     "solution": false
    }
   },
   "source": [
    "### Compressed Sparse Row Format\n",
    "\n",
    "This format tries to compress the sparse matrix further compared to COO format. Suppose you have the following coordinate representation of a sparse matrix where you sort by row index:\n",
    "\n",
    "```python\n",
    "    rows   = [0, 0, 0, 1, 1, 1, 2, 2, 2, 2, 3, 3, 3, 3, 4, 4, 4, 5, 5, 5, 6, 6]\n",
    "    cols   = [1, 2, 4, 0, 2, 3, 0, 1, 3, 4, 1, 2, 5, 6, 0, 2, 5, 3, 4, 6, 3, 5]\n",
    "    values = [1, 1, 1, 1, 1, 1, 1, 1, 1, 1, 1, 1, 1, 1, 1, 1, 1, 1, 1, 1, 1, 1]\n",
    "```\n",
    "\n",
    "If there are `nnz` nonzeroes, then this representation requires `3*nnz` units of storage since it needs three arrays, each of length `nnz`."
   ]
  },
  {
   "cell_type": "markdown",
   "metadata": {
    "deletable": false,
    "editable": false,
    "nbgrader": {
     "grade": false,
     "locked": true,
     "solution": false
    }
   },
   "source": [
    "Observe that when we sort by row index, values are repeated wherever there is more than one nonzero in a row. The idea behind CSR is to exploit this redundancy. From the sorted COO representation, we keep the column indices and values as-is. Then, instead of storing every row index, we just store the starting _offset_ of each row in those two lists, which we'll refer to as the _row pointers_, stored as the list `rowptr`, below:\n",
    "\n",
    "```python\n",
    "    cols   = [1, 2, 4, 0, 2, 3, 0, 1, 3, 4, 1, 2, 5, 6, 0, 2, 5, 3, 4, 6, 3, 5]\n",
    "    values = [1, 1, 1, 1, 1, 1, 1, 1, 1, 1, 1, 1, 1, 1, 1, 1, 1, 1, 1, 1, 1, 1]\n",
    "    rowptr = [0,       3,       6,         10,         14,      17,      20,   22]\n",
    "```\n",
    "\n",
    "If the sparse matrix has `n` rows, then the `rowptr` list has `n+1` elements, where the last element (`rowptr[-1] == rowptr[n]`) is `nnz`. (Why might you need this last element?)"
   ]
  },
  {
   "cell_type": "markdown",
   "metadata": {
    "deletable": false,
    "editable": false,
    "nbgrader": {
     "grade": false,
     "locked": true,
     "solution": false
    }
   },
   "source": [
    "**Exercise 8** (3 points). Complete the function, `coo2csr(coo_rows, coo_cols, coo_vals)`, below. The inputs are three Python lists corresponding to a sparse matrix in COO format, like the example illustrated above. Your function should return a triple, `(csr_ptrs, csr_inds, csr_vals)`, corresponding to the same matrix but stored in CSR format, again, like what is shown above, where `csr_ptrs` would be the row pointers (`rowptr`), `csr_inds` would be the column indices (`colind`), and `csr_vals` would be the values (`values`).\n",
    "\n",
    "To help you out, we show how to calculate `csr_inds` and `csr_vals`. You need to figure out how to compute `csr_ptrs`. The function is set up to return these three lists.\n",
    "\n",
    "> Although the test cell does not check it, in principle, your implementation should also work correctly if a row has an _empty_ row. In such cases, what should the CSR data structure look like?"
   ]
  },
  {
   "cell_type": "code",
   "execution_count": 119,
   "metadata": {},
   "outputs": [
    {
     "name": "stdout",
     "output_type": "stream",
     "text": [
      "<class 'list'>\n",
      "882640\n",
      "[63150, 63150, 63150]\n",
      "[44552, 79138, 17204]\n",
      "[1, 1, 1]\n",
      "[(0, 70573, 1), (0, 82334, 1), (0, 30141, 1), (1, 20805, 1), (2, 92751, 1)]\n",
      "-------------\n",
      "[70573, 82334, 30141, 20805, 92751, 34468, 35778, 41865, 40351, 13305, 41857, 105222, 42036, 90389, 55937, 11379, 43431, 22319, 43812, 37452, 92490, 60658, 93282, 105916, 71876, 81759, 97309, 99449, 69119, 21172, 18421, 8956, 36886, 105263, 601, 82717, 93992, 15836, 65241, 23411, 105681, 72880, 15853, 62926, 53972, 55675, 20726, 34477, 27592, 1354, 98302, 85943, 26772, 65737, 86412, 29017, 41787, 82222, 90126, 27898, 29817, 85708, 42558, 82785, 72032, 63005, 11168, 36682, 29771, 35187, 104382, 49455, 26554, 42761, 80561, 104007, 69779, 10678, 24435, 74578, 71342, 91182, 32163, 14843, 42580, 66910, 98556, 77239, 35214, 26421, 45598, 53519, 55003, 82631, 65269, 30585, 40816, 102802, 28834, 39696]\n",
      "[1, 1, 1, 1, 1, 1, 1, 1, 1, 1, 1, 1, 1, 1, 1, 1, 1, 1, 1, 1, 1, 1, 1, 1, 1, 1, 1, 1, 1, 1, 1, 1, 1, 1, 1, 1, 1, 1, 1, 1, 1, 1, 1, 1, 1, 1, 1, 1, 1, 1, 1, 1, 1, 1, 1, 1, 1, 1, 1, 1, 1, 1, 1, 1, 1, 1, 1, 1, 1, 1, 1, 1, 1, 1, 1, 1, 1, 1, 1, 1, 1, 1, 1, 1, 1, 1, 1, 1, 1, 1, 1, 1, 1, 1, 1, 1, 1, 1, 1, 1]\n",
      "[0, 0, 0, 1, 2, 2, 3, 3, 4, 4, 4, 4, 4, 4, 5, 5, 5, 5, 5, 5, 5, 5, 5, 5, 5, 5, 6, 7, 8, 9, 9, 9, 9, 9, 10, 10, 10, 10, 10, 10, 10, 10, 10, 10, 10, 10, 10, 10, 10, 10, 10, 10, 10, 10, 10, 10, 10, 10, 10, 10, 10, 10, 11, 12, 12, 12, 13, 13, 13, 13, 14, 14, 15, 15, 15, 16, 16, 16, 16, 17, 17, 17, 17, 17, 17, 17, 17, 18, 19, 19, 19, 19, 19, 19, 19, 19, 19, 19, 19, 19]\n",
      "-----\n",
      "{0: 3, 1: 1, 2: 2, 3: 2, 4: 6, 5: 12, 6: 1, 7: 1, 8: 1, 9: 5, 10: 28, 11: 1, 12: 3, 13: 4, 14: 2, 15: 3, 16: 4, 17: 8, 18: 1, 19: 12}\n",
      "[3, 4, 6, 8, 14, 26, 27, 28, 29, 34, 62, 63, 66, 70, 72, 75, 79, 87, 88, 100]\n",
      "!!!!!!!!\n",
      "<class 'list'>\n"
     ]
    },
    {
     "ename": "TypeError",
     "evalue": "can only concatenate list (not \"int\") to list",
     "output_type": "error",
     "traceback": [
      "\u001b[0;31m---------------------------------------------------------------------------\u001b[0m",
      "\u001b[0;31mTypeError\u001b[0m                                 Traceback (most recent call last)",
      "\u001b[0;32m<ipython-input-119-c004906bb85a>\u001b[0m in \u001b[0;36m<module>\u001b[0;34m\u001b[0m\n\u001b[1;32m     34\u001b[0m \u001b[0mprint\u001b[0m\u001b[0;34m(\u001b[0m\u001b[0;34m\"!!!!!!!!\"\u001b[0m\u001b[0;34m)\u001b[0m\u001b[0;34m\u001b[0m\u001b[0;34m\u001b[0m\u001b[0m\n\u001b[1;32m     35\u001b[0m \u001b[0mprint\u001b[0m\u001b[0;34m(\u001b[0m\u001b[0mtype\u001b[0m\u001b[0;34m(\u001b[0m\u001b[0mcsr_rows\u001b[0m\u001b[0;34m)\u001b[0m\u001b[0;34m)\u001b[0m\u001b[0;34m\u001b[0m\u001b[0;34m\u001b[0m\u001b[0m\n\u001b[0;32m---> 36\u001b[0;31m \u001b[0mn_rows\u001b[0m \u001b[0;34m=\u001b[0m \u001b[0mmax\u001b[0m\u001b[0;34m(\u001b[0m\u001b[0mcsr_rows\u001b[0m\u001b[0;34m+\u001b[0m\u001b[0;36m1\u001b[0m\u001b[0;34m)\u001b[0m\u001b[0;34m\u001b[0m\u001b[0;34m\u001b[0m\u001b[0m\n\u001b[0m\u001b[1;32m     37\u001b[0m \u001b[0mprint\u001b[0m\u001b[0;34m(\u001b[0m\u001b[0mn_rows\u001b[0m\u001b[0;34m)\u001b[0m\u001b[0;34m\u001b[0m\u001b[0;34m\u001b[0m\u001b[0m\n",
      "\u001b[0;31mTypeError\u001b[0m: can only concatenate list (not \"int\") to list"
     ]
    }
   ],
   "source": [
    "print(type(coo_rows))\n",
    "print(len(coo_rows))\n",
    "print(coo_rows[0:3])\n",
    "print(coo_cols[0:3])\n",
    "print(coo_vals[0:3])\n",
    "from operator import itemgetter\n",
    "C = sorted(zip(coo_rows, coo_cols, coo_vals), key=itemgetter(0))\n",
    "#B = list(zip(coo_rows, coo_cols, coo_vals))\n",
    "#print(B[:5])\n",
    "print(C[:5])\n",
    "#print(len(C))\n",
    "\n",
    "#print((C[-1][0] + 1))\n",
    "\n",
    "print(\"-------------\")\n",
    "csr_inds = [j for _, j, _ in C[:100]]\n",
    "csr_vals = [a_ij for _, _, a_ij in C[:100]]\n",
    "csr_rows = [i for i, _,_ in C[:100]]\n",
    "\n",
    "print(csr_inds)\n",
    "print(csr_vals)\n",
    "print(csr_rows)\n",
    "\n",
    "print(\"-----\")\n",
    "from collections import Counter\n",
    "from numpy import cumsum\n",
    "csr_ptrs_dic = dict(Counter(csr_rows))\n",
    "print(csr_ptrs_dic)\n",
    "csr_ptrs = list(cumsum(list(csr_ptrs_dic.values())))\n",
    "print(csr_ptrs)\n",
    "csr_ptrs.insert(0,0)\n",
    "#print(csr_ptrs)\n",
    "len(set(csr_rows))\n",
    "print(\"!!!!!!!!\")\n",
    "print(type(csr_rows))\n",
    "n_rows = max(csr_rows+1)\n",
    "print(n_rows)"
   ]
  },
  {
   "cell_type": "code",
   "execution_count": 135,
   "metadata": {
    "deletable": false,
    "nbgrader": {
     "checksum": "acbf14ee94e8438caba40607669769f4",
     "grade": false,
     "grade_id": "create_csr",
     "locked": false,
     "schema_version": 1,
     "solution": true
    }
   },
   "outputs": [
    {
     "name": "stdout",
     "output_type": "stream",
     "text": [
      "ran\n"
     ]
    }
   ],
   "source": [
    "def coo2csr(coo_rows, coo_cols, coo_vals):\n",
    "    from operator import itemgetter\n",
    "    C = sorted(zip(coo_rows, coo_cols, coo_vals), key=itemgetter(0))\n",
    "    nnz = len(C)\n",
    "    assert nnz >= 1\n",
    "    #assert (C[-1][0] + 1) == num_verts\n",
    "\n",
    "    csr_inds = [j for _, j, _ in C]\n",
    "    csr_vals = [a_ij for _, _, a_ij in C]\n",
    "    #csr_rows = [i for i, _,_ in C]\n",
    "    \n",
    "    # Your task: Compute `csr_ptrs`\n",
    "    n_rows = max(coo_rows)+1\n",
    "    indptr = [0] * n_rows\n",
    "    # Count the number of values in each row\n",
    "    for i in coo_rows:\n",
    "        indptr[i] += 1\n",
    "    # Do a cumsum\n",
    "    for i in range(n_rows - 1):\n",
    "        indptr[i + 1] += indptr[i]\n",
    "\n",
    "    # Add a zero on the front of the pointer list\n",
    "    # If that's the style of indptr you're doing\n",
    "    #intptr = [0] + indptr\n",
    "    \n",
    "    csr_ptrs = [0] + indptr\n",
    "            \n",
    "    #csr_ptrs = [0.]*(nnz) \n",
    "    #C_rows = [i for i, _, _ in C]\n",
    "    #csr_ptrs[-1] = nnz\n",
    "    #itr = -1 \n",
    "    #for ptr in range(nnz):\n",
    "        #if C_rows[ptr] != itr:\n",
    "            #itr = C_rows[ptr]\n",
    "            #csr_ptrs[itr] = ptr\n",
    "            \n",
    "    #from collections import Counter\n",
    "    #from numpy import cumsum\n",
    "    #csr_ptrs_dic = dict(Counter(csr_rows))\n",
    "    #csr_ptrs = list(cumsum(list(csr_ptrs_dic.values())))\n",
    "    #csr_ptrs.insert(0,0)\n",
    "    \n",
    "    return csr_ptrs, csr_inds, csr_vals\n",
    "\n",
    "print(\"ran\")"
   ]
  },
  {
   "cell_type": "code",
   "execution_count": null,
   "metadata": {
    "collapsed": true
   },
   "outputs": [],
   "source": [
    "B_coo_rows = [2, 2, 2, 5, 5, 5, 6, 6]\n",
    "B_coo_cols = [5, 0, 3, 1, 4, 6, 2, 3]\n",
    "B_coo_vals = [1, 1, 1, 1, 1, 1, 1, 1]"
   ]
  },
  {
   "cell_type": "code",
   "execution_count": 45,
   "metadata": {
    "collapsed": true
   },
   "outputs": [],
   "source": [
    "#def coo2csr(coo_rows, coo_cols, coo_vals):\n",
    "    \n",
    " #   csr_ptrs = [0, 0, 0, 3, 3, 3, 6, 8]\n",
    "  #  return csr_ptrs, csr_inds, csr_vals"
   ]
  },
  {
   "cell_type": "code",
   "execution_count": 136,
   "metadata": {
    "deletable": false,
    "editable": false,
    "nbgrader": {
     "checksum": "9156246198d95d0bad5e0a0c3986c1d7",
     "grade": true,
     "grade_id": "create_csr_test0",
     "locked": true,
     "points": "1",
     "schema_version": 1,
     "solution": false
    }
   },
   "outputs": [
    {
     "name": "stdout",
     "output_type": "stream",
     "text": [
      "\n",
      "(Passed.)\n"
     ]
    }
   ],
   "source": [
    "# Test cell 0: `create_csr_test` (1 point)\n",
    "\n",
    "csr_ptrs, csr_inds, csr_vals = coo2csr(coo_rows, coo_cols, coo_vals)\n",
    "\n",
    "assert type(csr_ptrs) is list, \"`csr_ptrs` is not a list.\"\n",
    "assert type(csr_inds) is list, \"`csr_inds` is not a list.\"\n",
    "assert type(csr_vals) is list, \"`csr_vals` is not a list.\"\n",
    "\n",
    "assert len(csr_ptrs) == (num_verts + 1), \"`csr_ptrs` has {} values instead of {}\".format(len(csr_ptrs), num_verts+1)\n",
    "assert len(csr_inds) == num_edges, \"`csr_inds` has {} values instead of {}\".format(len(csr_inds), num_edges)\n",
    "assert len(csr_vals) == num_edges, \"`csr_vals` has {} values instead of {}\".format(len(csr_vals), num_edges)\n",
    "assert csr_ptrs[num_verts] == num_edges, \"`csr_ptrs[{}]` == {} instead of {}\".format(num_verts, csr_ptrs[num_verts], num_edges)\n",
    "\n",
    "# Check some random entries\n",
    "for i in sample(range(num_verts), 10000):\n",
    "    assert i in G\n",
    "    a, b = csr_ptrs[i], csr_ptrs[i+1]\n",
    "    msg_prefix = \"Row {} should have these nonzeros: {}\".format(i, G[i])\n",
    "    assert (b-a) == len(G[i]), \"{}, which is {} nonzeros; instead, it has just {}.\".format(msg_prefix, len(G[i]), b-a)\n",
    "    assert all([(j in G[i]) for j in csr_inds[a:b]]), \"{}. However, it may have missing or incorrect column indices: csr_inds[{}:{}] == {}\".format(msg_prefix, a, b, csr_inds[a:b])\n",
    "    assert all([(j in csr_inds[a:b] for j in G[i].keys())]), \"{}. However, it may have missing or incorrect column indices: csr_inds[{}:{}] == {}\".format(msg_prefix, a, b, csr_inds[a:b])\n",
    "\n",
    "print (\"\\n(Passed.)\")"
   ]
  },
  {
   "cell_type": "code",
   "execution_count": 24,
   "metadata": {},
   "outputs": [
    {
     "data": {
      "text/plain": [
       "[0, 3, 4]"
      ]
     },
     "execution_count": 24,
     "metadata": {},
     "output_type": "execute_result"
    }
   ],
   "source": [
    "csr_ptrs[:3]"
   ]
  },
  {
   "cell_type": "code",
   "execution_count": 112,
   "metadata": {},
   "outputs": [
    {
     "ename": "IndexError",
     "evalue": "list index out of range",
     "output_type": "error",
     "traceback": [
      "\u001b[0;31m---------------------------------------------------------------------------\u001b[0m",
      "\u001b[0;31mIndexError\u001b[0m                                Traceback (most recent call last)",
      "\u001b[0;32m<ipython-input-112-0c8f08ef52ba>\u001b[0m in \u001b[0;36m<module>\u001b[0;34m\u001b[0m\n\u001b[1;32m      3\u001b[0m \u001b[0mB_coo_vals\u001b[0m \u001b[0;34m=\u001b[0m \u001b[0;34m[\u001b[0m\u001b[0;36m1\u001b[0m\u001b[0;34m,\u001b[0m \u001b[0;36m1\u001b[0m\u001b[0;34m,\u001b[0m \u001b[0;36m1\u001b[0m\u001b[0;34m,\u001b[0m \u001b[0;36m1\u001b[0m\u001b[0;34m,\u001b[0m \u001b[0;36m1\u001b[0m\u001b[0;34m,\u001b[0m \u001b[0;36m1\u001b[0m\u001b[0;34m,\u001b[0m \u001b[0;36m1\u001b[0m\u001b[0;34m,\u001b[0m \u001b[0;36m1\u001b[0m\u001b[0;34m]\u001b[0m\u001b[0;34m\u001b[0m\u001b[0;34m\u001b[0m\u001b[0m\n\u001b[1;32m      4\u001b[0m \u001b[0;34m\u001b[0m\u001b[0m\n\u001b[0;32m----> 5\u001b[0;31m \u001b[0mcoo2csr\u001b[0m\u001b[0;34m(\u001b[0m\u001b[0mB_coo_rows\u001b[0m\u001b[0;34m,\u001b[0m\u001b[0mB_coo_cols\u001b[0m\u001b[0;34m,\u001b[0m\u001b[0mB_coo_vals\u001b[0m\u001b[0;34m)\u001b[0m\u001b[0;34m\u001b[0m\u001b[0;34m\u001b[0m\u001b[0m\n\u001b[0m",
      "\u001b[0;32m<ipython-input-110-c430ca443166>\u001b[0m in \u001b[0;36mcoo2csr\u001b[0;34m(coo_rows, coo_cols, coo_vals)\u001b[0m\n\u001b[1;32m     18\u001b[0m     \u001b[0mitr\u001b[0m \u001b[0;34m=\u001b[0m \u001b[0;34m-\u001b[0m\u001b[0;36m1\u001b[0m\u001b[0;34m\u001b[0m\u001b[0;34m\u001b[0m\u001b[0m\n\u001b[1;32m     19\u001b[0m     \u001b[0;32mfor\u001b[0m \u001b[0mptr\u001b[0m \u001b[0;32min\u001b[0m \u001b[0mrange\u001b[0m\u001b[0;34m(\u001b[0m\u001b[0mnnz\u001b[0m\u001b[0;34m+\u001b[0m\u001b[0;36m1\u001b[0m\u001b[0;34m)\u001b[0m\u001b[0;34m:\u001b[0m\u001b[0;34m\u001b[0m\u001b[0;34m\u001b[0m\u001b[0m\n\u001b[0;32m---> 20\u001b[0;31m         \u001b[0;32mif\u001b[0m \u001b[0mC_rows\u001b[0m\u001b[0;34m[\u001b[0m\u001b[0mptr\u001b[0m\u001b[0;34m]\u001b[0m \u001b[0;34m!=\u001b[0m \u001b[0mitr\u001b[0m\u001b[0;34m:\u001b[0m\u001b[0;34m\u001b[0m\u001b[0;34m\u001b[0m\u001b[0m\n\u001b[0m\u001b[1;32m     21\u001b[0m             \u001b[0mitr\u001b[0m \u001b[0;34m=\u001b[0m \u001b[0mC_rows\u001b[0m\u001b[0;34m[\u001b[0m\u001b[0mptr\u001b[0m\u001b[0;34m]\u001b[0m\u001b[0;34m\u001b[0m\u001b[0;34m\u001b[0m\u001b[0m\n\u001b[1;32m     22\u001b[0m             \u001b[0mcsr_ptrs\u001b[0m\u001b[0;34m[\u001b[0m\u001b[0mitr\u001b[0m\u001b[0;34m]\u001b[0m \u001b[0;34m=\u001b[0m \u001b[0mptr\u001b[0m\u001b[0;34m\u001b[0m\u001b[0;34m\u001b[0m\u001b[0m\n",
      "\u001b[0;31mIndexError\u001b[0m: list index out of range"
     ]
    }
   ],
   "source": [
    "B_coo_rows = [2, 2, 2, 5, 5, 5, 6, 6]\n",
    "B_coo_cols = [5, 0, 3, 1, 4, 6, 2, 3]\n",
    "B_coo_vals = [1, 1, 1, 1, 1, 1, 1, 1]\n",
    "\n",
    "coo2csr(B_coo_rows,B_coo_cols,B_coo_vals)\n"
   ]
  },
  {
   "cell_type": "code",
   "execution_count": 137,
   "metadata": {
    "deletable": false,
    "editable": false,
    "nbgrader": {
     "grade": true,
     "grade_id": "create_csr_test1",
     "locked": true,
     "points": "1",
     "solution": false
    }
   },
   "outputs": [
    {
     "name": "stdout",
     "output_type": "stream",
     "text": [
      "COO format:\n",
      "\tcoo_rows = [2, 2, 2, 5, 5, 5, 6, 6] \n",
      "\tcoo_cols = [5, 0, 3, 1, 4, 6, 2, 3] \n",
      "\tcoo_vals = [1, 1, 1, 1, 1, 1, 1, 1]\n",
      "\n",
      "CSR pointers:\n",
      "==> True solution: [0, 0, 0, 3, 3, 3, 6, 8]\n",
      "==> Your solution: [0, 0, 0, 3, 3, 3, 6, 8]\n",
      "\n",
      "\n",
      "(Passed!)\n"
     ]
    }
   ],
   "source": [
    "# Test cell 1: case with empty rows (1 point)\n",
    "\n",
    "#          B             csr_ptrs\n",
    "\n",
    "#  / 0 0 0 0 0 0 0 \\        0\n",
    "#  | 0 0 0 0 0 0 0 |        0\n",
    "#  | 1 0 0 1 0 1 0 |        0\n",
    "#  | 0 0 0 0 0 0 0 |   -->  3\n",
    "#  | 0 0 0 0 0 0 0 |        3\n",
    "#  | 0 1 0 0 1 0 1 |        3\n",
    "#  \\ 0 0 1 1 0 0 0 /        6\n",
    "#                           8\n",
    "\n",
    "B_coo_rows = [2, 2, 2, 5, 5, 5, 6, 6]\n",
    "B_coo_cols = [5, 0, 3, 1, 4, 6, 2, 3]\n",
    "B_coo_vals = [1, 1, 1, 1, 1, 1, 1, 1]\n",
    "B_csr_ptrs = [0, 0, 0, 3, 3, 3, 6, 8]\n",
    "\n",
    "your_csr_ptrs, _, _ = coo2csr(B_coo_rows, B_coo_cols, B_coo_vals)\n",
    "\n",
    "print(f'COO format:\\n\\tcoo_rows = {B_coo_rows} \\n\\tcoo_cols = {B_coo_cols} \\n\\tcoo_vals = {B_coo_vals}')\n",
    "print(f'\\nCSR pointers:')\n",
    "print(f'==> True solution: {B_csr_ptrs}')\n",
    "print(f'==> Your solution: {your_csr_ptrs}\\n')\n",
    "\n",
    "assert your_csr_ptrs == B_csr_ptrs\n",
    "print(\"\\n(Passed!)\")"
   ]
  },
  {
   "cell_type": "code",
   "execution_count": 138,
   "metadata": {
    "deletable": false,
    "editable": false,
    "nbgrader": {
     "grade": true,
     "grade_id": "create_csr_test2",
     "locked": true,
     "points": "1",
     "solution": false
    }
   },
   "outputs": [
    {
     "name": "stdout",
     "output_type": "stream",
     "text": [
      "\n",
      "(Passed.)\n"
     ]
    }
   ],
   "source": [
    "# Test cell 2: Spot-check some rows (1 point)\n",
    "\n",
    "# Given the COO format of our dataset of edges, we will empty randomly selected 3 consecutive rows:\n",
    "i = rng.integers(num_verts-3)\n",
    "idx = np.concatenate((np.where(np.array(coo_rows)==i)[0], np.where(np.array(coo_rows)==i+1)[0],\n",
    "                      np.where(np.array(coo_rows)==i+2)[0]), axis=0)\n",
    "coo_rows_empty = np.delete(np.array(coo_rows), idx).tolist()\n",
    "coo_cols_empty = np.delete(np.array(coo_cols), idx).tolist()\n",
    "coo_vals_empty = np.delete(np.array(coo_vals), idx).tolist()\n",
    "\n",
    "# Output of coo2csr:\n",
    "csr_ptrs_empty, _, _ = coo2csr(coo_rows_empty, coo_cols_empty, coo_vals_empty)\n",
    "\n",
    "assert max(csr_ptrs_empty) == num_edges - len(idx), f'The largest entry of your output is {max(csr_ptrs_empty)} instead of {num_edges - len(idx)}'\n",
    "assert len(csr_ptrs_empty) == num_verts + 1, f'Your output has {len(csr_ptrs_empty)} entries instead of {num_verts+1}.'\n",
    "\n",
    "# Check the CSR format by converting back to COO format:\n",
    "coo_rows_converted = [(csr_ptrs_empty[i+1] - csr_ptrs_empty[i]) * [i] for i in range(len(csr_ptrs_empty)-1)]\n",
    "from itertools import chain\n",
    "coo_rows_converted = [i for i in chain.from_iterable(coo_rows_converted)]\n",
    "\n",
    "assert sorted(coo_rows_empty) == coo_rows_converted, \"The function doesn't handle the empty rows correctly.\"\n",
    "\n",
    "print (\"\\n(Passed.)\")"
   ]
  },
  {
   "cell_type": "markdown",
   "metadata": {
    "deletable": false,
    "editable": false,
    "nbgrader": {
     "grade": false,
     "locked": true,
     "solution": false
    }
   },
   "source": [
    "**Exercise 9** (3 points). Now implement a CSR-based sparse matrix-vector multiply."
   ]
  },
  {
   "cell_type": "code",
   "execution_count": null,
   "metadata": {
    "collapsed": true,
    "deletable": false,
    "nbgrader": {
     "checksum": "39b0d6c563be4d5edbf19ba4b84513ae",
     "grade": false,
     "grade_id": "spmv_csr",
     "locked": false,
     "schema_version": 1,
     "solution": true
    }
   },
   "outputs": [],
   "source": [
    "def spmv_csr(ptr, ind, val, x, num_rows=None):\n",
    "    assert type(ptr) == list\n",
    "    assert type(ind) == list\n",
    "    assert type(val) == list\n",
    "    assert type(x) == list\n",
    "    if num_rows is None: num_rows = len(ptr) - 1\n",
    "    assert len(ptr) >= (num_rows+1)  # Why?\n",
    "    assert len(ind) >= ptr[num_rows]  # Why?\n",
    "    assert len(val) >= ptr[num_rows]  # Why?\n",
    "    \n",
    "    y = dense_vector(num_rows)\n",
    "    for i in range(num_rows):\n",
    "        for k in range(ptr[i],ptr[i+1]):\n",
    "            y[i]+=val[k]*x[ind[k]]\n",
    "    return y"
   ]
  },
  {
   "cell_type": "code",
   "execution_count": null,
   "metadata": {
    "collapsed": true,
    "deletable": false,
    "editable": false,
    "nbgrader": {
     "checksum": "2dfa835e02cb220d37c1cf42d15cabc2",
     "grade": true,
     "grade_id": "spmv_csr_test",
     "locked": true,
     "points": 3,
     "schema_version": 1,
     "solution": false
    }
   },
   "outputs": [],
   "source": [
    "# Test cell: `spmv_csr_test`\n",
    "\n",
    "#   / 0.   -2.5   1.2 \\   / 1. \\   / -1.4 \\\n",
    "#   | 0.1   1.    0.  | * | 2. | = |  2.1 |\n",
    "#   \\ 6.   -1.    0.  /   \\ 3. /   \\  4.0 /\n",
    "\n",
    "A_csr_ptrs = [ 0,        2,       4,       6]\n",
    "A_csr_cols = [ 1,   2,   0,   1,  0,   1]\n",
    "A_csr_vals = [-2.5, 1.2, 0.1, 1., 6., -1.]\n",
    "\n",
    "x = dense_vector([1, 2, 3])\n",
    "y0 = dense_vector([-1.4, 2.1, 4.0])\n",
    "\n",
    "# Try your code:\n",
    "y_csr = spmv_csr(A_csr_ptrs, A_csr_cols, A_csr_vals, x)\n",
    "\n",
    "max_abs_residual = max([abs(a-b) for a, b in zip(y_csr, y0)])\n",
    "\n",
    "print (\"==> A_csr_ptrs:\", A_csr_ptrs)\n",
    "print (\"==> A_csr_{cols, vals}:\", list(zip(A_csr_cols, A_csr_vals)))\n",
    "print (\"==> x:\", x)\n",
    "print (\"==> True solution, y0:\", y0)\n",
    "print (\"==> Your solution:\", y_csr)\n",
    "print (\"==> Residual (infinity norm):\", max_abs_residual)\n",
    "assert max_abs_residual <= 1e-14\n",
    "\n",
    "print (\"\\n(Passed.)\")"
   ]
  },
  {
   "cell_type": "code",
   "execution_count": null,
   "metadata": {
    "collapsed": true,
    "deletable": false,
    "editable": false,
    "nbgrader": {
     "grade": true,
     "grade_id": "bench_spmv_csr",
     "locked": true,
     "points": "0",
     "solution": false
    }
   },
   "outputs": [],
   "source": [
    "x = dense_vector([1.] * num_verts)\n",
    "benchit('spmv_csr(csr_ptrs, csr_inds, csr_vals, x)', scope=globals());"
   ]
  },
  {
   "cell_type": "markdown",
   "metadata": {
    "collapsed": true,
    "deletable": false,
    "editable": false,
    "nbgrader": {
     "grade": false,
     "locked": true,
     "solution": false
    }
   },
   "source": [
    "## Using Scipy's implementations\n",
    "\n",
    "What you should have noticed is that the list-based COO and CSR formats do not really lead to sparse matrix-vector multiply implementations that are much faster than the dictionary-based methods. Let's instead try Scipy's native COO and CSR implementations."
   ]
  },
  {
   "cell_type": "code",
   "execution_count": null,
   "metadata": {
    "collapsed": true,
    "deletable": false,
    "editable": false,
    "nbgrader": {
     "grade": true,
     "grade_id": "bench_coo_vs_spmv",
     "locked": true,
     "points": "0",
     "solution": false
    }
   },
   "outputs": [],
   "source": [
    "import numpy as np\n",
    "import scipy.sparse as sp\n",
    "\n",
    "A_coo_sp = sp.coo_matrix((coo_vals, (coo_rows, coo_cols)))\n",
    "A_csr_sp = A_coo_sp.tocsr() # Alternatively: sp.csr_matrix((val, ind, ptr))\n",
    "x_sp = np.ones(num_verts)\n",
    "\n",
    "print (\"\\n==> COO in Scipy:\")\n",
    "benchit('A_coo_sp.dot(x_sp)', scope=globals());\n",
    "\n",
    "print (\"\\n==> CSR in Scipy:\")\n",
    "benchit('A_csr_sp.dot(x_sp)', scope=globals());"
   ]
  },
  {
   "cell_type": "markdown",
   "metadata": {
    "deletable": false,
    "editable": false,
    "nbgrader": {
     "grade": false,
     "grade_id": "cell-32d6c000d64253c6",
     "locked": true,
     "schema_version": 1,
     "solution": false
    }
   },
   "source": [
    "**Fin!** If your notebook runs to this point without error, try submitting it."
   ]
  }
 ],
 "metadata": {
  "anaconda-cloud": [],
  "celltoolbar": "Create Assignment",
  "kernelspec": {
   "display_name": "Python 3.8",
   "language": "python",
   "name": "python38"
  },
  "language_info": {
   "codemirror_mode": {
    "name": "ipython",
    "version": 3
   },
   "file_extension": ".py",
   "mimetype": "text/x-python",
   "name": "python",
   "nbconvert_exporter": "python",
   "pygments_lexer": "ipython3",
   "version": "3.8.7"
  }
 },
 "nbformat": 4,
 "nbformat_minor": 1
}
